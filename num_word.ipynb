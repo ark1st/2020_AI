{
  "nbformat": 4,
  "nbformat_minor": 0,
  "metadata": {
    "kernelspec": {
      "display_name": "Python 3",
      "language": "python",
      "name": "python3"
    },
    "language_info": {
      "codemirror_mode": {
        "name": "ipython",
        "version": 2
      },
      "file_extension": ".py",
      "mimetype": "text/x-python",
      "name": "python",
      "nbconvert_exporter": "python",
      "pygments_lexer": "ipython2",
      "version": "2.7.6"
    },
    "pycharm": {
      "stem_cell": {
        "cell_type": "raw",
        "source": [],
        "metadata": {
          "collapsed": false
        }
      }
    },
    "colab": {
      "name": "num_word.ipynb",
      "provenance": [],
      "include_colab_link": true
    }
  },
  "cells": [
    {
      "cell_type": "markdown",
      "metadata": {
        "id": "view-in-github",
        "colab_type": "text"
      },
      "source": [
        "<a href=\"https://colab.research.google.com/github/ark1st/2020_AI/blob/master/num_word.ipynb\" target=\"_parent\"><img src=\"https://colab.research.google.com/assets/colab-badge.svg\" alt=\"Open In Colab\"/></a>"
      ]
    },
    {
      "cell_type": "code",
      "metadata": {
        "id": "rPg9xgUU13ol",
        "colab_type": "code",
        "colab": {}
      },
      "source": [
        ""
      ],
      "execution_count": 0,
      "outputs": []
    },
    {
      "cell_type": "code",
      "metadata": {
        "pycharm": {
          "name": "#%%\n"
        },
        "id": "4WrlRG8m13o3",
        "colab_type": "code",
        "outputId": "4fc1d54c-7fea-4218-f709-e2686f02efb2",
        "colab": {
          "base_uri": "https://localhost:8080/",
          "height": 71
        }
      },
      "source": [
        "import matplotlib.pyplot as plt\n",
        "import numpy as np\n",
        "import pandas as pd\n",
        "from keras.datasets import imdb\n",
        "(train_data, train_labels), (test_data, test_labels) = imdb.load_data(num_words=5000)\n"
      ],
      "execution_count": 0,
      "outputs": [
        {
          "output_type": "stream",
          "text": [
            "Using TensorFlow backend.\n"
          ],
          "name": "stderr"
        },
        {
          "output_type": "stream",
          "text": [
            "Downloading data from https://s3.amazonaws.com/text-datasets/imdb.npz\n",
            "17465344/17464789 [==============================] - 0s 0us/step\n"
          ],
          "name": "stdout"
        }
      ]
    },
    {
      "cell_type": "code",
      "metadata": {
        "pycharm": {
          "name": "#%%\n"
        },
        "id": "3Azy-rK313pH",
        "colab_type": "code",
        "outputId": "9c12751d-1d24-4720-e04f-619539f6fe1c",
        "colab": {
          "base_uri": "https://localhost:8080/",
          "height": 91
        }
      },
      "source": [
        "word_index = imdb.get_word_index()\n",
        "reverse_word_index = dict([(value, key) for (key, value) in word_index.items()])\n",
        "decord_review = ' '.join([reverse_word_index.get(i-3, '?') for i in train_data[0]])\n",
        "decord_review\n",
        "\n"
      ],
      "execution_count": 0,
      "outputs": [
        {
          "output_type": "stream",
          "text": [
            "Downloading data from https://s3.amazonaws.com/text-datasets/imdb_word_index.json\n",
            "1646592/1641221 [==============================] - 0s 0us/step\n"
          ],
          "name": "stdout"
        },
        {
          "output_type": "execute_result",
          "data": {
            "text/plain": [
              "\"? this film was just brilliant casting location scenery story direction everyone's really suited the part they played and you could just imagine being there robert ? is an amazing actor and now the same being director ? father came from the same scottish island as myself so i loved the fact there was a real connection with this film the witty remarks throughout the film were great it was just brilliant so much that i bought the film as soon as it was released for ? and would recommend it to everyone to watch and the fly ? was amazing really cried at the end it was so sad and you know what they say if you cry at a film it must have been good and this definitely was also ? to the two little ? that played the ? of norman and paul they were just brilliant children are often left out of the ? list i think because the stars that play them all grown up are such a big ? for the whole film but these children are amazing and should be ? for what they have done don't you think the whole story was so lovely because it was true and was someone's life after all that was ? with us all\""
            ]
          },
          "metadata": {
            "tags": []
          },
          "execution_count": 2
        }
      ]
    },
    {
      "cell_type": "code",
      "metadata": {
        "pycharm": {
          "name": "#%%\n"
        },
        "id": "e9RAn3ox13pW",
        "colab_type": "code",
        "colab": {}
      },
      "source": [
        "def Vectorize_Sequence(sequences, dimension = 5000):\n",
        "    result = np.zeros((len(sequences), dimension))\n",
        "    for i, sequence in enumerate(sequences):\n",
        "        result[i, sequence] = 1\n",
        "    return result\n",
        "\n",
        "x_train = Vectorize_Sequence(train_data)\n",
        "x_test = Vectorize_Sequence(test_data)\n",
        "\n",
        "y_train = np.asarray(train_labels).astype('float32')\n",
        "y_test = np.asarray(test_labels).astype('float32')\n"
      ],
      "execution_count": 0,
      "outputs": []
    },
    {
      "cell_type": "code",
      "metadata": {
        "pycharm": {
          "name": "#%%\n"
        },
        "id": "hNSKYjim13pn",
        "colab_type": "code",
        "colab": {}
      },
      "source": [
        "from keras import models\n",
        "from keras import layers\n"
      ],
      "execution_count": 0,
      "outputs": []
    },
    {
      "cell_type": "code",
      "metadata": {
        "pycharm": {
          "name": "#%%\n"
        },
        "id": "qmMonzPS13p0",
        "colab_type": "code",
        "outputId": "5a370279-29b4-4b0c-e78d-b47aa1489c77",
        "colab": {
          "base_uri": "https://localhost:8080/",
          "height": 793
        }
      },
      "source": [
        "history_dict_list=[]\n",
        "for i in range(1):\n",
        "    print(i)\n",
        "    model = models.Sequential()\n",
        "    model.add(layers.Dense(16, activation ='relu', input_shape = (5000,)))\n",
        "    model.add(layers.Dense(16, activation='relu'))\n",
        "    model.add(layers.Dense(1, activation='sigmoid'))\n",
        "    \n",
        "    #트레인, 테스트 셋 생성\n",
        "    x_val = x_train[:5000]\n",
        "    partial_x_train = x_train[5000:]\n",
        "    y_val = y_train[:5000]\n",
        "    partial_y_train = y_train[5000:]\n",
        "    \n",
        "    #모델 컴파일\n",
        "    model.compile(optimizer='rmsprop',\n",
        "              loss='binary_crossentropy',\n",
        "              metrics=['acc'])\n",
        "    \n",
        "    #모델 훈련\n",
        "    history = model.fit(partial_x_train,\n",
        "                    partial_y_train,\n",
        "                    epochs=20,\n",
        "                    batch_size=512,\n",
        "                    validation_data=(x_val, y_val))\n",
        "    \n",
        "    history_dict = history.history\n",
        "    history_dict_list.append(history_dict) \n",
        "\n",
        "    \n"
      ],
      "execution_count": 0,
      "outputs": [
        {
          "output_type": "stream",
          "text": [
            "0\n",
            "Train on 20000 samples, validate on 5000 samples\n",
            "Epoch 1/20\n",
            "20000/20000 [==============================] - 1s 48us/step - loss: 0.5042 - acc: 0.7849 - val_loss: 0.3801 - val_acc: 0.8650\n",
            "Epoch 2/20\n",
            "20000/20000 [==============================] - 1s 43us/step - loss: 0.3145 - acc: 0.8906 - val_loss: 0.3166 - val_acc: 0.8752\n",
            "Epoch 3/20\n",
            "20000/20000 [==============================] - 1s 43us/step - loss: 0.2498 - acc: 0.9103 - val_loss: 0.2875 - val_acc: 0.8842\n",
            "Epoch 4/20\n",
            "20000/20000 [==============================] - 1s 43us/step - loss: 0.2170 - acc: 0.9199 - val_loss: 0.2811 - val_acc: 0.8868\n",
            "Epoch 5/20\n",
            "20000/20000 [==============================] - 1s 44us/step - loss: 0.1924 - acc: 0.9306 - val_loss: 0.2800 - val_acc: 0.8878\n",
            "Epoch 6/20\n",
            "20000/20000 [==============================] - 1s 44us/step - loss: 0.1780 - acc: 0.9345 - val_loss: 0.2921 - val_acc: 0.8888\n",
            "Epoch 7/20\n",
            "20000/20000 [==============================] - 1s 43us/step - loss: 0.1637 - acc: 0.9405 - val_loss: 0.2979 - val_acc: 0.8854\n",
            "Epoch 8/20\n",
            "20000/20000 [==============================] - 1s 42us/step - loss: 0.1498 - acc: 0.9461 - val_loss: 0.3073 - val_acc: 0.8846\n",
            "Epoch 9/20\n",
            "20000/20000 [==============================] - 1s 43us/step - loss: 0.1441 - acc: 0.9479 - val_loss: 0.3365 - val_acc: 0.8770\n",
            "Epoch 10/20\n",
            "20000/20000 [==============================] - 1s 44us/step - loss: 0.1317 - acc: 0.9531 - val_loss: 0.3407 - val_acc: 0.8758\n",
            "Epoch 11/20\n",
            "20000/20000 [==============================] - 1s 44us/step - loss: 0.1224 - acc: 0.9589 - val_loss: 0.3525 - val_acc: 0.8754\n",
            "Epoch 12/20\n",
            "20000/20000 [==============================] - 1s 43us/step - loss: 0.1147 - acc: 0.9603 - val_loss: 0.3998 - val_acc: 0.8656\n",
            "Epoch 13/20\n",
            "20000/20000 [==============================] - 1s 43us/step - loss: 0.1041 - acc: 0.9645 - val_loss: 0.3755 - val_acc: 0.8728\n",
            "Epoch 14/20\n",
            "20000/20000 [==============================] - 1s 44us/step - loss: 0.1010 - acc: 0.9654 - val_loss: 0.3856 - val_acc: 0.8714\n",
            "Epoch 15/20\n",
            "20000/20000 [==============================] - 1s 44us/step - loss: 0.0910 - acc: 0.9696 - val_loss: 0.4222 - val_acc: 0.8688\n",
            "Epoch 16/20\n",
            "20000/20000 [==============================] - 1s 44us/step - loss: 0.0845 - acc: 0.9718 - val_loss: 0.4285 - val_acc: 0.8694\n",
            "Epoch 17/20\n",
            "20000/20000 [==============================] - 1s 44us/step - loss: 0.0764 - acc: 0.9755 - val_loss: 0.4242 - val_acc: 0.8720\n",
            "Epoch 18/20\n",
            "20000/20000 [==============================] - 1s 45us/step - loss: 0.0725 - acc: 0.9779 - val_loss: 0.4646 - val_acc: 0.8586\n",
            "Epoch 19/20\n",
            "20000/20000 [==============================] - 1s 44us/step - loss: 0.0633 - acc: 0.9818 - val_loss: 0.4673 - val_acc: 0.8686\n",
            "Epoch 20/20\n",
            "20000/20000 [==============================] - 1s 45us/step - loss: 0.0610 - acc: 0.9823 - val_loss: 0.5168 - val_acc: 0.8646\n"
          ],
          "name": "stdout"
        }
      ]
    },
    {
      "cell_type": "code",
      "metadata": {
        "pycharm": {
          "name": "#%%\n"
        },
        "id": "EyEFihtR13qE",
        "colab_type": "code",
        "outputId": "5946df0f-63b6-47ba-bc28-f8669048688a",
        "colab": {
          "base_uri": "https://localhost:8080/",
          "height": 841
        }
      },
      "source": [
        "i=0\n",
        "plt.figure(figsize=(20,20))\n",
        "for history_dict in history_dict_list:\n",
        "  loss = history_dict['loss']\n",
        "  val_loss = history_dict['val_loss']\n",
        "    \n",
        "  epochs = range(1, len(loss) + 1)\n",
        "\n",
        "  acc = history_dict['acc']\n",
        "  val_acc = history_dict['val_acc']\n",
        "    \n",
        "  plt.plot(epochs, acc, 'bo', label='Training acc')\n",
        "  plt.plot(epochs, val_acc, 'b', label='Validation acc')\n",
        "  plt.plot(epochs, loss, 'ro', label='Training loss')\n",
        "  plt.plot(epochs, val_loss, 'r', label='Validation loss')\n",
        "  plt.title('num word = 5000 ')\n",
        "  plt.xlabel('Epochs')\n",
        "  plt.ylabel('Accuracy')\n",
        "  plt.xticks([x for x in range(1,20)])\n",
        "  plt.legend()\n",
        "  i = i+1\n",
        "plt.show()  \n",
        "\n",
        "\n",
        "\n",
        "\n",
        "\n"
      ],
      "execution_count": 0,
      "outputs": [
        {
          "output_type": "display_data",
          "data": {
            "image/png": "[encoded data removed]",
            "text/plain": [
              "<Figure size 1440x1440 with 1 Axes>"
            ]
          },
          "metadata": {
            "tags": [],
            "needs_background": "light"
          }
        }
      ]
    }
  ]
}