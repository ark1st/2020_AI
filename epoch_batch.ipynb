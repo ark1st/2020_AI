{
  "nbformat": 4,
  "nbformat_minor": 0,
  "metadata": {
    "kernelspec": {
      "display_name": "Python 3",
      "language": "python",
      "name": "python3"
    },
    "language_info": {
      "codemirror_mode": {
        "name": "ipython",
        "version": 2
      },
      "file_extension": ".py",
      "mimetype": "text/x-python",
      "name": "python",
      "nbconvert_exporter": "python",
      "pygments_lexer": "ipython2",
      "version": "2.7.6"
    },
    "pycharm": {
      "stem_cell": {
        "cell_type": "raw",
        "source": [],
        "metadata": {
          "collapsed": false
        }
      }
    },
    "colab": {
      "name": "epoch_batch.ipynb",
      "provenance": [],
      "include_colab_link": true
    }
  },
  "cells": [
    {
      "cell_type": "markdown",
      "metadata": {
        "id": "view-in-github",
        "colab_type": "text"
      },
      "source": [
        "<a href=\"https://colab.research.google.com/github/ark1st/2020_AI/blob/master/epoch_batch.ipynb\" target=\"_parent\"><img src=\"https://colab.research.google.com/assets/colab-badge.svg\" alt=\"Open In Colab\"/></a>"
      ]
    },
    {
      "cell_type": "code",
      "metadata": {
        "pycharm": {
          "name": "#%%\n"
        },
        "id": "XSN_QAKE52tl",
        "colab_type": "code",
        "colab": {}
      },
      "source": [
        "import matplotlib.pyplot as plt\n",
        "import numpy as np\n",
        "import pandas as pd\n",
        "from keras.datasets import imdb\n",
        "(train_data, train_labels), (test_data, test_labels) = imdb.load_data(num_words=10000)\n"
      ],
      "execution_count": 0,
      "outputs": []
    },
    {
      "cell_type": "code",
      "metadata": {
        "pycharm": {
          "name": "#%%\n"
        },
        "id": "jv_Hz5Uy52t2",
        "colab_type": "code",
        "outputId": "e0d5224e-f4d2-49e2-c518-4cefb9413b75",
        "colab": {
          "base_uri": "https://localhost:8080/",
          "height": 91
        }
      },
      "source": [
        "word_index = imdb.get_word_index()\n",
        "reverse_word_index = dict([(value, key) for (key, value) in word_index.items()])\n",
        "decord_review = ' '.join([reverse_word_index.get(i-3, '?') for i in train_data[0]])\n",
        "decord_review\n",
        "\n"
      ],
      "execution_count": 7,
      "outputs": [
        {
          "output_type": "stream",
          "text": [
            "Downloading data from https://s3.amazonaws.com/text-datasets/imdb_word_index.json\n",
            "1646592/1641221 [==============================] - 0s 0us/step\n"
          ],
          "name": "stdout"
        },
        {
          "output_type": "execute_result",
          "data": {
            "text/plain": [
              "\"? this film was just brilliant casting location scenery story direction everyone's really suited the part they played and you could just imagine being there robert ? is an amazing actor and now the same being director ? father came from the same scottish island as myself so i loved the fact there was a real connection with this film the witty remarks throughout the film were great it was just brilliant so much that i bought the film as soon as it was released for ? and would recommend it to everyone to watch and the fly fishing was amazing really cried at the end it was so sad and you know what they say if you cry at a film it must have been good and this definitely was also ? to the two little boy's that played the ? of norman and paul they were just brilliant children are often left out of the ? list i think because the stars that play them all grown up are such a big profile for the whole film but these children are amazing and should be praised for what they have done don't you think the whole story was so lovely because it was true and was someone's life after all that was shared with us all\""
            ]
          },
          "metadata": {
            "tags": []
          },
          "execution_count": 7
        }
      ]
    },
    {
      "cell_type": "code",
      "metadata": {
        "pycharm": {
          "name": "#%%\n"
        },
        "id": "zI3ValZ152uH",
        "colab_type": "code",
        "colab": {}
      },
      "source": [
        "def Vectorize_Sequence(sequences, dimension = 10000):\n",
        "    result = np.zeros((len(sequences), dimension))\n",
        "    for i, sequence in enumerate(sequences):\n",
        "        result[i, sequence] = 1\n",
        "    return result\n",
        "\n",
        "x_train = Vectorize_Sequence(train_data)\n",
        "x_test = Vectorize_Sequence(test_data)\n",
        "\n",
        "y_train = np.asarray(train_labels).astype('float32')\n",
        "y_test = np.asarray(test_labels).astype('float32')\n"
      ],
      "execution_count": 0,
      "outputs": []
    },
    {
      "cell_type": "code",
      "metadata": {
        "pycharm": {
          "name": "#%%\n"
        },
        "id": "IQIx2jT452uS",
        "colab_type": "code",
        "colab": {}
      },
      "source": [
        "from keras import models\n",
        "from keras import layers\n"
      ],
      "execution_count": 0,
      "outputs": []
    },
    {
      "cell_type": "code",
      "metadata": {
        "pycharm": {
          "name": "#%%\n"
        },
        "id": "wDFFDWg252ug",
        "colab_type": "code",
        "outputId": "cca1a401-bb4e-4e80-9b4c-cd059ce0c347",
        "colab": {
          "base_uri": "https://localhost:8080/",
          "height": 413
        }
      },
      "source": [
        "history_dict_list=[]\n",
        "for i in range(1):\n",
        "    print(i)\n",
        "    model = models.Sequential()\n",
        "    model.add(layers.Dense(16, activation ='relu', input_shape = (10000,)))\n",
        "    model.add(layers.Dense(16, activation='relu'))\n",
        "    model.add(layers.Dense(1, activation='sigmoid'))\n",
        "    \n",
        "    #트레인, 테스트 셋 생성\n",
        "    x_val = x_train[:10000]\n",
        "    partial_x_train = x_train[10000:]\n",
        "    y_val = y_train[:10000]\n",
        "    partial_y_train = y_train[10000:]\n",
        "    \n",
        "    #모델 컴파일\n",
        "    model.compile(optimizer='rmsprop',\n",
        "              loss='binary_crossentropy',\n",
        "              metrics=['acc'])\n",
        "    \n",
        "    #모델 훈련\n",
        "    history = model.fit(partial_x_train,\n",
        "                    partial_y_train,\n",
        "                    epochs=10,\n",
        "                    batch_size=100,\n",
        "                    validation_data=(x_val, y_val))\n",
        "    \n",
        "    history_dict = history.history\n",
        "    history_dict_list.append(history_dict) \n",
        "\n",
        "    \n"
      ],
      "execution_count": 12,
      "outputs": [
        {
          "output_type": "stream",
          "text": [
            "0\n",
            "Train on 15000 samples, validate on 10000 samples\n",
            "Epoch 1/10\n",
            "15000/15000 [==============================] - 3s 201us/step - loss: 0.4037 - acc: 0.8400 - val_loss: 0.2924 - val_acc: 0.8844\n",
            "Epoch 2/10\n",
            "15000/15000 [==============================] - 3s 194us/step - loss: 0.2124 - acc: 0.9221 - val_loss: 0.2766 - val_acc: 0.8883\n",
            "Epoch 3/10\n",
            "15000/15000 [==============================] - 3s 194us/step - loss: 0.1556 - acc: 0.9437 - val_loss: 0.3052 - val_acc: 0.8833\n",
            "Epoch 4/10\n",
            "15000/15000 [==============================] - 3s 195us/step - loss: 0.1175 - acc: 0.9587 - val_loss: 0.3341 - val_acc: 0.8810\n",
            "Epoch 5/10\n",
            "15000/15000 [==============================] - 3s 194us/step - loss: 0.0891 - acc: 0.9679 - val_loss: 0.3834 - val_acc: 0.8753\n",
            "Epoch 6/10\n",
            "15000/15000 [==============================] - 3s 192us/step - loss: 0.0685 - acc: 0.9769 - val_loss: 0.4279 - val_acc: 0.8737\n",
            "Epoch 7/10\n",
            "15000/15000 [==============================] - 3s 192us/step - loss: 0.0476 - acc: 0.9853 - val_loss: 0.4851 - val_acc: 0.8721\n",
            "Epoch 8/10\n",
            "15000/15000 [==============================] - 3s 194us/step - loss: 0.0313 - acc: 0.9900 - val_loss: 0.6039 - val_acc: 0.8654\n",
            "Epoch 9/10\n",
            "15000/15000 [==============================] - 3s 191us/step - loss: 0.0207 - acc: 0.9937 - val_loss: 0.6453 - val_acc: 0.8678\n",
            "Epoch 10/10\n",
            "15000/15000 [==============================] - 3s 192us/step - loss: 0.0137 - acc: 0.9959 - val_loss: 0.7210 - val_acc: 0.8667\n"
          ],
          "name": "stdout"
        }
      ]
    },
    {
      "cell_type": "code",
      "metadata": {
        "pycharm": {
          "name": "#%%\n"
        },
        "id": "zSA0xP_252ux",
        "colab_type": "code",
        "outputId": "cd2c61fc-0881-4fb7-eccd-655f3f3622f6",
        "colab": {
          "base_uri": "https://localhost:8080/",
          "height": 1000
        }
      },
      "source": [
        "i=0\n",
        "plt.figure(figsize=(20,20))\n",
        "for history_dict in history_dict_list:\n",
        "  loss = history_dict['loss']\n",
        "  val_loss = history_dict['val_loss']\n",
        "    \n",
        "  epochs = range(1, len(loss) + 1)\n",
        "    \n",
        "  plt.subplot(1,1,i+1)   \n",
        "  acc = history_dict['acc']\n",
        "  val_acc = history_dict['val_acc']\n",
        "    \n",
        "  plt.plot(epochs, acc, 'bo', label='Training acc')\n",
        "  plt.plot(epochs, val_acc, 'b', label='Validation acc')\n",
        "  plt.plot(epochs, loss, 'ro', label='Training loss')\n",
        "  plt.plot(epochs, val_loss, 'r', label='Validation loss')\n",
        "  plt.title('epoch = 10, batchsize = 100 ' )\n",
        "  plt.xlabel('Epochs')\n",
        "  plt.ylabel('Accuracy')\n",
        "  plt.xticks([x for x in range(1,10)])\n",
        "  plt.legend()\n",
        "  i = i+1\n",
        "plt.show()  \n",
        "\n",
        "\n",
        "\n",
        "\n",
        "\n",
        "\n",
        "\n",
        "\n"
      ],
      "execution_count": 13,
      "outputs": [
        {
          "output_type": "display_data",
          "data": {
            "image/png": "[encoded data removed]",
            "text/plain": [
              "<Figure size 1440x1440 with 1 Axes>"
            ]
          },
          "metadata": {
            "tags": [],
            "needs_background": "light"
          }
        }
      ]
    }
  ]
}