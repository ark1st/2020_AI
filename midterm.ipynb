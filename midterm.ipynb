{
  "nbformat": 4,
  "nbformat_minor": 0,
  "metadata": {
    "kernelspec": {
      "display_name": "Python 3",
      "language": "python",
      "name": "python3"
    },
    "language_info": {
      "codemirror_mode": {
        "name": "ipython",
        "version": 3
      },
      "file_extension": ".py",
      "mimetype": "text/x-python",
      "name": "python",
      "nbconvert_exporter": "python",
      "pygments_lexer": "ipython3",
      "version": "3.7.3"
    },
    "colab": {
      "name": "midterm.ipynb",
      "provenance": [],
      "collapsed_sections": [],
      "include_colab_link": true
    }
  },
  "cells": [
    {
      "cell_type": "markdown",
      "metadata": {
        "id": "view-in-github",
        "colab_type": "text"
      },
      "source": [
        "<a href=\"https://colab.research.google.com/github/ark1st/2020_AI/blob/master/midterm.ipynb\" target=\"_parent\"><img src=\"https://colab.research.google.com/assets/colab-badge.svg\" alt=\"Open In Colab\"/></a>"
      ]
    },
    {
      "cell_type": "markdown",
      "metadata": {
        "id": "4F5r-oVj6huO",
        "colab_type": "text"
      },
      "source": [
        "주어진 Train data 25,000 개를 15,000개의 partial train data와 10,000개의 partial test data로 나누어 새로 만드시오.\n",
        "\n",
        "15,000개의 partial train data를 사용하여 3-fold cross validation 결과를 보이시오.\n",
        "\n",
        "15,000개의 partial train data 와 10,000개의 partial test data를 사용하여  overfitting을 최소로 하는 신경망 모델을 케라스로 프로그램하고 그래프 등을 사용하여 결과를 보여주고 그에 대해 분석 설명 하시오(강의 내용 범주 안에서 구현하시오).\n",
        "여기서 사용되는 test dataset은 원본 25,000 Test dataset으로 test 하시오.\n",
        "\n",
        "제출 기한 : 2020. 6.1(월) \n",
        "제출 방법 : 사이버 캠퍼스 9주차 중간고사 레포트 제출로 제출\n",
        "제출 양식: 레포트 제출 양식을 사용하나 자율적으로 작성해도 무방 \n"
      ]
    },
    {
      "cell_type": "code",
      "metadata": {
        "id": "0YFCiFuN6huP",
        "colab_type": "code",
        "colab": {}
      },
      "source": [
        "import matplotlib.pyplot as plt\n",
        "import pandas as pd\n",
        "import numpy as np\n",
        "import seaborn as sns"
      ],
      "execution_count": 0,
      "outputs": []
    },
    {
      "cell_type": "code",
      "metadata": {
        "id": "fNdNLUi66huS",
        "colab_type": "code",
        "colab": {}
      },
      "source": [
        "from keras.datasets import imdb\n",
        "(train_data, train_labels), (test_data, test_labels) = imdb.load_data(num_words=10000)"
      ],
      "execution_count": 0,
      "outputs": []
    },
    {
      "cell_type": "code",
      "metadata": {
        "id": "s2Ru-SE36huV",
        "colab_type": "code",
        "outputId": "86532172-7c12-43f7-f0ce-5256a54c984c",
        "colab": {
          "base_uri": "https://localhost:8080/",
          "height": 34
        }
      },
      "source": [
        "train_data.shape, test_data.shape"
      ],
      "execution_count": 34,
      "outputs": [
        {
          "output_type": "execute_result",
          "data": {
            "text/plain": [
              "((25000,), (25000,))"
            ]
          },
          "metadata": {
            "tags": []
          },
          "execution_count": 34
        }
      ]
    },
    {
      "cell_type": "code",
      "metadata": {
        "id": "lrUgDOoI6huX",
        "colab_type": "code",
        "colab": {}
      },
      "source": [
        "X_train = train_data[:15000]\n",
        "X_val = train_data[15000:]\n",
        "y_train = train_labels[:15000]\n",
        "y_val = train_labels[15000:]"
      ],
      "execution_count": 0,
      "outputs": []
    },
    {
      "cell_type": "code",
      "metadata": {
        "id": "NEiV7t0L6hua",
        "colab_type": "code",
        "colab": {}
      },
      "source": [
        "def Vectorize_Sequence(sequences, dimension = 10000):\n",
        "    result = np.zeros((len(sequences), dimension))\n",
        "    for i, sequence in enumerate(sequences):\n",
        "        result[i, sequence] = 1\n",
        "    return result\n",
        "\n",
        "X_train = Vectorize_Sequence(X_train)\n",
        "X_val = Vectorize_Sequence(X_val)\n",
        "X_test = Vectorize_Sequence(test_data)"
      ],
      "execution_count": 0,
      "outputs": []
    },
    {
      "cell_type": "code",
      "metadata": {
        "id": "eNCHwx2w6huc",
        "colab_type": "code",
        "colab": {}
      },
      "source": [
        "y_train = np.asarray(y_train).astype('float32')\n",
        "y_val = np.asarray(y_val).astype('float32')\n",
        "y_test = np.asarray(test_labels).astype('float32')"
      ],
      "execution_count": 0,
      "outputs": []
    },
    {
      "cell_type": "markdown",
      "metadata": {
        "id": "WOZ0XDfk6hue",
        "colab_type": "text"
      },
      "source": [
        "### Model "
      ]
    },
    {
      "cell_type": "code",
      "metadata": {
        "id": "HTj5fh0Y6hue",
        "colab_type": "code",
        "colab": {}
      },
      "source": [
        "from keras import models\n",
        "from keras import layers\n",
        "def create_Model():\n",
        "    model = models.Sequential()\n",
        "    model.add(layers.Dense(16, activation = 'relu', input_shape = (10000,)))\n",
        "    model.add(layers.Dense(16, activation='relu'))\n",
        "    model.add(layers.Dense(1, activation='sigmoid'))\n",
        "              \n",
        "    model.compile(optimizer='rmsprop',\n",
        "              loss='binary_crossentropy',\n",
        "              metrics=['accuracy'])\n",
        "    \n",
        "    return model"
      ],
      "execution_count": 0,
      "outputs": []
    },
    {
      "cell_type": "code",
      "metadata": {
        "id": "revTvJsI6huh",
        "colab_type": "code",
        "outputId": "49bd1f18-ddc6-4300-a997-bbde858d8205",
        "colab": {
          "base_uri": "https://localhost:8080/",
          "height": 34
        }
      },
      "source": [
        "len(train_data)"
      ],
      "execution_count": 39,
      "outputs": [
        {
          "output_type": "execute_result",
          "data": {
            "text/plain": [
              "25000"
            ]
          },
          "metadata": {
            "tags": []
          },
          "execution_count": 39
        }
      ]
    },
    {
      "cell_type": "markdown",
      "metadata": {
        "id": "pJiteFxQ6huj",
        "colab_type": "text"
      },
      "source": [
        "### 3-fold Validation"
      ]
    },
    {
      "cell_type": "code",
      "metadata": {
        "id": "tuqp5B2F6huk",
        "colab_type": "code",
        "outputId": "56d8c485-8197-4b0b-fe55-08f57c19c380",
        "colab": {
          "base_uri": "https://localhost:8080/",
          "height": 354
        }
      },
      "source": [
        "k = 3\n",
        "num_val_samples = len(X_train) // k\n",
        "acc_list = []\n",
        "val_acc_list = []\n",
        "loss_list = []\n",
        "val_loss_list = []\n",
        "for i in range(k):\n",
        "    print('처리중인 폴드 #', i)\n",
        "    # 검증 데이터 준비: k번째 분할\n",
        "    val_data = X_train[i * num_val_samples: (i + 1) * num_val_samples]\n",
        "    val_targets = y_train[i * num_val_samples: (i + 1) * num_val_samples]\n",
        "\n",
        "    # 훈련 데이터 준비: 다른 분할 전체\n",
        "    partial_train_data = np.concatenate(\n",
        "        [X_train[:i * num_val_samples],\n",
        "         X_train[(i + 1) * num_val_samples:]],\n",
        "        axis=0)\n",
        "    partial_train_targets = np.concatenate(\n",
        "        [y_train[:i * num_val_samples],\n",
        "         y_train[(i + 1) * num_val_samples:]],\n",
        "        axis=0)\n",
        "    \n",
        "    model = create_Model()\n",
        "    \n",
        "    history = model.fit(partial_train_data,\n",
        "                    partial_train_targets,\n",
        "                    epochs=7,\n",
        "                    batch_size=256,\n",
        "                    validation_data=(val_data, val_targets),\n",
        "                    verbose = 0)\n",
        "    \n",
        "    print(\"accuracy: %.2f%%\" % (history.history['accuracy'][-1]))\n",
        "    print(\"loss: %.2f%%\" % (history.history['loss'][-1]))\n",
        "    print(\"val_accuracy: %.2f%%\" %  (history.history['val_accuracy'][-1]))\n",
        "    print(\"val_loss: %.2f%%\" % (history.history['val_loss'][-1]))\n",
        "\n",
        "    acc_list.append(history.history['accuracy'][-1])\n",
        "    loss_list.append(history.history['loss'][-1])\n",
        "    val_acc_list.append(history.history['val_accuracy'][-1])\n",
        "    val_loss_list.append(history.history['val_loss'][-1])\n",
        "\n",
        "print(\"%.2f (+/- %.2f%%)\" % (np.mean(acc_list), np.std(acc_list)))\n",
        "print(\"%.2f (+/- %.2f%%)\" % (np.mean(loss_list), np.std(loss_list)))\n",
        "print(\"%.2f (+/- %.2f%%)\" % (np.mean(val_acc_list), np.std(val_acc_list)))\n",
        "print(\"%.2f (+/- %.2f%%)\" % (np.mean(val_loss_list), np.std(val_loss_list)))"
      ],
      "execution_count": 40,
      "outputs": [
        {
          "output_type": "stream",
          "text": [
            "처리중인 폴드 # 0\n",
            "accuracy: 0.98%\n",
            "loss: 0.06%\n",
            "val_accuracy: 0.87%\n",
            "val_loss: 0.37%\n",
            "처리중인 폴드 # 1\n",
            "accuracy: 0.99%\n",
            "loss: 0.06%\n",
            "val_accuracy: 0.87%\n",
            "val_loss: 0.37%\n",
            "처리중인 폴드 # 2\n",
            "accuracy: 0.98%\n",
            "loss: 0.07%\n",
            "val_accuracy: 0.87%\n",
            "val_loss: 0.38%\n",
            "0.99 (+/- 0.00%)\n",
            "0.06 (+/- 0.00%)\n",
            "0.87 (+/- 0.00%)\n",
            "0.37 (+/- 0.00%)\n"
          ],
          "name": "stdout"
        }
      ]
    },
    {
      "cell_type": "markdown",
      "metadata": {
        "id": "vxo2FA_V50_C",
        "colab_type": "text"
      },
      "source": [
        "# 2번 문제"
      ]
    },
    {
      "cell_type": "code",
      "metadata": {
        "id": "kqNXTzxB6hum",
        "colab_type": "code",
        "colab": {}
      },
      "source": [
        "from keras import backend as K \n",
        "from keras import regularizers\n",
        "from keras.optimizers import rmsprop\n",
        "opt = rmsprop()\n",
        "K.clear_session()\n",
        "#기저모델\n",
        "model = models.Sequential()\n",
        "model.add(layers.Dense(16, activation = 'relu', input_shape = (10000,)))\n",
        "model.add(layers.Dense(16, activation='relu'))\n",
        "model.add(layers.Dense(1, activation='sigmoid'))\n",
        "\n",
        "model.compile(optimizer=opt,\n",
        "              loss='binary_crossentropy',\n",
        "              metrics=['accuracy'])"
      ],
      "execution_count": 0,
      "outputs": []
    },
    {
      "cell_type": "code",
      "metadata": {
        "id": "VbkBiZs7_s37",
        "colab_type": "code",
        "outputId": "1f681851-d08e-4f4f-9b5e-6fe97f072182",
        "colab": {
          "base_uri": "https://localhost:8080/",
          "height": 390
        }
      },
      "source": [
        "history_dict = {}\n",
        "\n",
        "history = model.fit(X_train,\n",
        "                    y_train,\n",
        "                    epochs=10,\n",
        "                    batch_size=256,\n",
        "                    validation_data=(X_val, y_val))\n",
        "history_dict = history.history"
      ],
      "execution_count": 42,
      "outputs": [
        {
          "output_type": "stream",
          "text": [
            "Train on 15000 samples, validate on 10000 samples\n",
            "Epoch 1/10\n",
            "15000/15000 [==============================] - 2s 130us/step - loss: 0.4494 - accuracy: 0.8265 - val_loss: 0.3217 - val_accuracy: 0.8814\n",
            "Epoch 2/10\n",
            "15000/15000 [==============================] - 2s 121us/step - loss: 0.2449 - accuracy: 0.9151 - val_loss: 0.2767 - val_accuracy: 0.8892\n",
            "Epoch 3/10\n",
            "15000/15000 [==============================] - 2s 123us/step - loss: 0.1763 - accuracy: 0.9391 - val_loss: 0.2941 - val_accuracy: 0.8840\n",
            "Epoch 4/10\n",
            "15000/15000 [==============================] - 2s 124us/step - loss: 0.1358 - accuracy: 0.9555 - val_loss: 0.3289 - val_accuracy: 0.8779\n",
            "Epoch 5/10\n",
            "15000/15000 [==============================] - 2s 127us/step - loss: 0.1057 - accuracy: 0.9640 - val_loss: 0.3254 - val_accuracy: 0.8809\n",
            "Epoch 6/10\n",
            "15000/15000 [==============================] - 2s 125us/step - loss: 0.0832 - accuracy: 0.9741 - val_loss: 0.4310 - val_accuracy: 0.8663\n",
            "Epoch 7/10\n",
            "15000/15000 [==============================] - 2s 122us/step - loss: 0.0661 - accuracy: 0.9801 - val_loss: 0.4068 - val_accuracy: 0.8760\n",
            "Epoch 8/10\n",
            "15000/15000 [==============================] - 2s 125us/step - loss: 0.0510 - accuracy: 0.9852 - val_loss: 0.4544 - val_accuracy: 0.8724\n",
            "Epoch 9/10\n",
            "15000/15000 [==============================] - 2s 123us/step - loss: 0.0407 - accuracy: 0.9885 - val_loss: 0.4978 - val_accuracy: 0.8724\n",
            "Epoch 10/10\n",
            "15000/15000 [==============================] - 2s 125us/step - loss: 0.0301 - accuracy: 0.9924 - val_loss: 0.5499 - val_accuracy: 0.8668\n"
          ],
          "name": "stdout"
        }
      ]
    },
    {
      "cell_type": "code",
      "metadata": {
        "id": "fbQ7fu966xq3",
        "colab_type": "code",
        "colab": {}
      },
      "source": [
        "history_df = pd.DataFrame(history_dict)\n"
      ],
      "execution_count": 0,
      "outputs": []
    },
    {
      "cell_type": "code",
      "metadata": {
        "id": "sl2j-KuQA5TU",
        "colab_type": "code",
        "outputId": "9b4f1ed2-d115-4071-f86d-51504c57f275",
        "colab": {
          "base_uri": "https://localhost:8080/",
          "height": 406
        }
      },
      "source": [
        "accuracy = history_df['accuracy']   \n",
        "val_accuracy = history_df['val_accuracy']\n",
        "epochs = range(1, len(accuracy) + 1)\n",
        "plt.figure(figsize=(12,6))\n",
        "plt.subplot(1,2,1)\n",
        "plt.plot(epochs, accuracy, 'r', label='Training accuracy')\n",
        "plt.plot(epochs, val_accuracy, 'ro', label='Validation accuracy')\n",
        "plt.xlabel('Epochs')\n",
        "plt.ylabel('Accuracy')\n",
        "plt.ylim(0,1.01)\n",
        "plt.legend()\n",
        "\n",
        "plt.subplot(1,2,2)\n",
        "loss = history_df['loss']   \n",
        "val_loss = history_df['val_loss']\n",
        "epochs = range(1, len(loss) + 1)\n",
        "\n",
        "plt.plot(epochs, loss, 'b', label='Training loss')\n",
        "plt.plot(epochs, val_loss, 'bo', label='Validation loss')\n",
        "plt.xlabel('Epochs')\n",
        "plt.ylabel('loss')\n",
        "plt.ylim(0,1.01)\n",
        "plt.legend()\n",
        "print(max(val_accuracy))"
      ],
      "execution_count": 44,
      "outputs": [
        {
          "output_type": "stream",
          "text": [
            "0.88919997215271\n"
          ],
          "name": "stdout"
        },
        {
          "output_type": "display_data",
          "data": {
            "image/png": "[encoded data removed]",
            "text/plain": [
              "<Figure size 864x432 with 2 Axes>"
            ]
          },
          "metadata": {
            "tags": [],
            "needs_background": "light"
          }
        }
      ]
    },
    {
      "cell_type": "code",
      "metadata": {
        "id": "6IKp3B4kwLi0",
        "colab_type": "code",
        "outputId": "380b39e5-4dee-4787-c36b-7be0bd9a8ff0",
        "colab": {
          "base_uri": "https://localhost:8080/",
          "height": 52
        }
      },
      "source": [
        "model.evaluate(X_test, y_test)"
      ],
      "execution_count": 45,
      "outputs": [
        {
          "output_type": "stream",
          "text": [
            "25000/25000 [==============================] - 2s 62us/step\n"
          ],
          "name": "stdout"
        },
        {
          "output_type": "execute_result",
          "data": {
            "text/plain": [
              "[0.6253738464927673, 0.8454399704933167]"
            ]
          },
          "metadata": {
            "tags": []
          },
          "execution_count": 45
        }
      ]
    },
    {
      "cell_type": "markdown",
      "metadata": {
        "id": "_kukIIssVjJn",
        "colab_type": "text"
      },
      "source": [
        "### 1) L1, L2 정규화 추가"
      ]
    },
    {
      "cell_type": "code",
      "metadata": {
        "id": "S6XlnYd9TD1s",
        "colab_type": "code",
        "outputId": "b2ba59c4-eb8e-421c-f22a-7ae97a6094db",
        "colab": {
          "base_uri": "https://localhost:8080/",
          "height": 390
        }
      },
      "source": [
        "K.clear_session()\n",
        "opt = rmsprop()\n",
        "model = models.Sequential()\n",
        "model.add(layers.Dense(16, activation = 'relu', input_shape = (10000,), kernel_regularizer=regularizers.l1(0.001)))\n",
        "model.add(layers.Dense(16, activation='relu',))\n",
        "model.add(layers.Dense(1, activation='sigmoid'))\n",
        "\n",
        "model.compile(optimizer=opt,\n",
        "              loss='binary_crossentropy',\n",
        "              metrics=['accuracy'])\n",
        "\n",
        "history_dict = {}\n",
        "history = model.fit(X_train,\n",
        "                    y_train,\n",
        "                    epochs=10,\n",
        "                    batch_size=256,\n",
        "                    validation_data=(X_val, y_val))\n",
        "history_dict = history.history\n",
        "L1_df = pd.DataFrame(history_dict)"
      ],
      "execution_count": 46,
      "outputs": [
        {
          "output_type": "stream",
          "text": [
            "Train on 15000 samples, validate on 10000 samples\n",
            "Epoch 1/10\n",
            "15000/15000 [==============================] - 2s 129us/step - loss: 0.8585 - accuracy: 0.7581 - val_loss: 0.6225 - val_accuracy: 0.8460\n",
            "Epoch 2/10\n",
            "15000/15000 [==============================] - 2s 121us/step - loss: 0.5809 - accuracy: 0.8497 - val_loss: 0.5774 - val_accuracy: 0.8377\n",
            "Epoch 3/10\n",
            "15000/15000 [==============================] - 2s 119us/step - loss: 0.5355 - accuracy: 0.8609 - val_loss: 0.5249 - val_accuracy: 0.8639\n",
            "Epoch 4/10\n",
            "15000/15000 [==============================] - 2s 119us/step - loss: 0.5142 - accuracy: 0.8668 - val_loss: 0.5175 - val_accuracy: 0.8642\n",
            "Epoch 5/10\n",
            "15000/15000 [==============================] - 2s 116us/step - loss: 0.5006 - accuracy: 0.8695 - val_loss: 0.5177 - val_accuracy: 0.8595\n",
            "Epoch 6/10\n",
            "15000/15000 [==============================] - 2s 117us/step - loss: 0.4926 - accuracy: 0.8753 - val_loss: 0.5011 - val_accuracy: 0.8692\n",
            "Epoch 7/10\n",
            "15000/15000 [==============================] - 2s 115us/step - loss: 0.4863 - accuracy: 0.8759 - val_loss: 0.5174 - val_accuracy: 0.8642\n",
            "Epoch 8/10\n",
            "15000/15000 [==============================] - 2s 115us/step - loss: 0.4785 - accuracy: 0.8821 - val_loss: 0.5279 - val_accuracy: 0.8538\n",
            "Epoch 9/10\n",
            "15000/15000 [==============================] - 2s 115us/step - loss: 0.4740 - accuracy: 0.8829 - val_loss: 0.4855 - val_accuracy: 0.8719\n",
            "Epoch 10/10\n",
            "15000/15000 [==============================] - 2s 116us/step - loss: 0.4652 - accuracy: 0.8863 - val_loss: 0.4832 - val_accuracy: 0.8743\n"
          ],
          "name": "stdout"
        }
      ]
    },
    {
      "cell_type": "code",
      "metadata": {
        "id": "jSXPnn1FeFgo",
        "colab_type": "code",
        "outputId": "67dcbb5e-a3a6-4c97-cff9-b0d16c2c0756",
        "colab": {
          "base_uri": "https://localhost:8080/",
          "height": 390
        }
      },
      "source": [
        "K.clear_session()\n",
        "opt = rmsprop()\n",
        "model = models.Sequential()\n",
        "model.add(layers.Dense(16, activation = 'relu', input_shape = (10000,), kernel_regularizer=regularizers.l2(0.001)))\n",
        "model.add(layers.Dense(16, activation='relu',))\n",
        "model.add(layers.Dense(1, activation='sigmoid'))\n",
        "\n",
        "model.compile(optimizer=opt,\n",
        "              loss='binary_crossentropy',\n",
        "              metrics=['accuracy'])\n",
        "\n",
        "history_dict = {}\n",
        "history = model.fit(X_train,\n",
        "                    y_train,\n",
        "                    epochs=10,\n",
        "                    batch_size=256,\n",
        "                    validation_data=(X_val, y_val))\n",
        "history_dict = history.history\n",
        "L2_df = pd.DataFrame(history_dict)"
      ],
      "execution_count": 47,
      "outputs": [
        {
          "output_type": "stream",
          "text": [
            "Train on 15000 samples, validate on 10000 samples\n",
            "Epoch 1/10\n",
            "15000/15000 [==============================] - 2s 125us/step - loss: 0.4718 - accuracy: 0.8169 - val_loss: 0.3516 - val_accuracy: 0.8811\n",
            "Epoch 2/10\n",
            "15000/15000 [==============================] - 2s 117us/step - loss: 0.2794 - accuracy: 0.9114 - val_loss: 0.3066 - val_accuracy: 0.8921\n",
            "Epoch 3/10\n",
            "15000/15000 [==============================] - 2s 116us/step - loss: 0.2319 - accuracy: 0.9292 - val_loss: 0.3102 - val_accuracy: 0.8903\n",
            "Epoch 4/10\n",
            "15000/15000 [==============================] - 2s 114us/step - loss: 0.2057 - accuracy: 0.9401 - val_loss: 0.3222 - val_accuracy: 0.8852\n",
            "Epoch 5/10\n",
            "15000/15000 [==============================] - 2s 115us/step - loss: 0.1895 - accuracy: 0.9479 - val_loss: 0.3435 - val_accuracy: 0.8821\n",
            "Epoch 6/10\n",
            "15000/15000 [==============================] - 2s 116us/step - loss: 0.1785 - accuracy: 0.9522 - val_loss: 0.3554 - val_accuracy: 0.8810\n",
            "Epoch 7/10\n",
            "15000/15000 [==============================] - 2s 117us/step - loss: 0.1669 - accuracy: 0.9562 - val_loss: 0.3673 - val_accuracy: 0.8782\n",
            "Epoch 8/10\n",
            "15000/15000 [==============================] - 2s 117us/step - loss: 0.1605 - accuracy: 0.9598 - val_loss: 0.3909 - val_accuracy: 0.8731\n",
            "Epoch 9/10\n",
            "15000/15000 [==============================] - 2s 116us/step - loss: 0.1536 - accuracy: 0.9634 - val_loss: 0.4187 - val_accuracy: 0.8700\n",
            "Epoch 10/10\n",
            "15000/15000 [==============================] - 2s 118us/step - loss: 0.1450 - accuracy: 0.9647 - val_loss: 0.4176 - val_accuracy: 0.8713\n"
          ],
          "name": "stdout"
        }
      ]
    },
    {
      "cell_type": "code",
      "metadata": {
        "id": "7u-8PEfofHQQ",
        "colab_type": "code",
        "outputId": "c279cc03-3a23-43c0-f720-38874efa2d29",
        "colab": {
          "base_uri": "https://localhost:8080/",
          "height": 390
        }
      },
      "source": [
        "K.clear_session()\n",
        "opt = rmsprop()\n",
        "model = models.Sequential()\n",
        "model.add(layers.Dense(16, activation = 'relu', input_shape = (10000,), kernel_regularizer=regularizers.l1_l2(0.001)))\n",
        "model.add(layers.Dense(16, activation='relu',))\n",
        "model.add(layers.Dense(1, activation='sigmoid'))\n",
        "\n",
        "model.compile(optimizer=opt,\n",
        "              loss='binary_crossentropy',\n",
        "              metrics=['accuracy'])\n",
        "\n",
        "history_dict = {}\n",
        "history = model.fit(X_train,\n",
        "                    y_train,\n",
        "                    epochs=10,\n",
        "                    batch_size=256,\n",
        "                    validation_data=(X_val, y_val))\n",
        "history_dict = history.history\n",
        "L1l2_input_df = pd.DataFrame(history_dict)"
      ],
      "execution_count": 48,
      "outputs": [
        {
          "output_type": "stream",
          "text": [
            "Train on 15000 samples, validate on 10000 samples\n",
            "Epoch 1/10\n",
            "15000/15000 [==============================] - 2s 125us/step - loss: 0.8763 - accuracy: 0.7761 - val_loss: 0.6424 - val_accuracy: 0.8302\n",
            "Epoch 2/10\n",
            "15000/15000 [==============================] - 2s 118us/step - loss: 0.6061 - accuracy: 0.8364 - val_loss: 0.5840 - val_accuracy: 0.8540\n",
            "Epoch 3/10\n",
            "15000/15000 [==============================] - 2s 118us/step - loss: 0.5712 - accuracy: 0.8504 - val_loss: 0.5723 - val_accuracy: 0.8548\n",
            "Epoch 4/10\n",
            "15000/15000 [==============================] - 2s 116us/step - loss: 0.5581 - accuracy: 0.8524 - val_loss: 0.5825 - val_accuracy: 0.8356\n",
            "Epoch 5/10\n",
            "15000/15000 [==============================] - 2s 120us/step - loss: 0.5455 - accuracy: 0.8599 - val_loss: 0.5459 - val_accuracy: 0.8535\n",
            "Epoch 6/10\n",
            "15000/15000 [==============================] - 2s 118us/step - loss: 0.5400 - accuracy: 0.8603 - val_loss: 0.5323 - val_accuracy: 0.8653\n",
            "Epoch 7/10\n",
            "15000/15000 [==============================] - 2s 120us/step - loss: 0.5392 - accuracy: 0.8597 - val_loss: 0.5595 - val_accuracy: 0.8479\n",
            "Epoch 8/10\n",
            "15000/15000 [==============================] - 2s 119us/step - loss: 0.5277 - accuracy: 0.8675 - val_loss: 0.5380 - val_accuracy: 0.8588\n",
            "Epoch 9/10\n",
            "15000/15000 [==============================] - 2s 118us/step - loss: 0.5258 - accuracy: 0.8661 - val_loss: 0.5223 - val_accuracy: 0.8694\n",
            "Epoch 10/10\n",
            "15000/15000 [==============================] - 2s 118us/step - loss: 0.5246 - accuracy: 0.8701 - val_loss: 0.6159 - val_accuracy: 0.8191\n"
          ],
          "name": "stdout"
        }
      ]
    },
    {
      "cell_type": "code",
      "metadata": {
        "id": "i4HxkdgJfTFK",
        "colab_type": "code",
        "outputId": "5c19af30-09ba-48ef-aac4-382f9090a3a1",
        "colab": {
          "base_uri": "https://localhost:8080/",
          "height": 390
        }
      },
      "source": [
        "K.clear_session()\n",
        "opt = rmsprop()\n",
        "model = models.Sequential()\n",
        "model.add(layers.Dense(16, activation = 'relu', input_shape = (10000,)))\n",
        "model.add(layers.Dense(16, activation='relu', kernel_regularizer=regularizers.l1(0.001)))\n",
        "model.add(layers.Dense(1, activation='sigmoid'))\n",
        "\n",
        "model.compile(optimizer=opt,\n",
        "              loss='binary_crossentropy',\n",
        "              metrics=['accuracy'])\n",
        "\n",
        "history_dict = {}\n",
        "history = model.fit(X_train,\n",
        "                    y_train,\n",
        "                    epochs=10,\n",
        "                    batch_size=256,\n",
        "                    validation_data=(X_val, y_val))\n",
        "history_dict = history.history\n",
        "L1_hidden_df = pd.DataFrame(history_dict)"
      ],
      "execution_count": 49,
      "outputs": [
        {
          "output_type": "stream",
          "text": [
            "Train on 15000 samples, validate on 10000 samples\n",
            "Epoch 1/10\n",
            "15000/15000 [==============================] - 2s 120us/step - loss: 0.5299 - accuracy: 0.8105 - val_loss: 0.3856 - val_accuracy: 0.8769\n",
            "Epoch 2/10\n",
            "15000/15000 [==============================] - 2s 112us/step - loss: 0.3012 - accuracy: 0.9127 - val_loss: 0.3497 - val_accuracy: 0.8784\n",
            "Epoch 3/10\n",
            "15000/15000 [==============================] - 2s 112us/step - loss: 0.2215 - accuracy: 0.9409 - val_loss: 0.3380 - val_accuracy: 0.8847\n",
            "Epoch 4/10\n",
            "15000/15000 [==============================] - 2s 114us/step - loss: 0.1767 - accuracy: 0.9535 - val_loss: 0.3349 - val_accuracy: 0.8852\n",
            "Epoch 5/10\n",
            "15000/15000 [==============================] - 2s 113us/step - loss: 0.1478 - accuracy: 0.9649 - val_loss: 0.3567 - val_accuracy: 0.8824\n",
            "Epoch 6/10\n",
            "15000/15000 [==============================] - 2s 114us/step - loss: 0.1224 - accuracy: 0.9753 - val_loss: 0.3850 - val_accuracy: 0.8790\n",
            "Epoch 7/10\n",
            "15000/15000 [==============================] - 2s 114us/step - loss: 0.1058 - accuracy: 0.9790 - val_loss: 0.4146 - val_accuracy: 0.8773\n",
            "Epoch 8/10\n",
            "15000/15000 [==============================] - 2s 113us/step - loss: 0.0917 - accuracy: 0.9844 - val_loss: 0.4480 - val_accuracy: 0.8744\n",
            "Epoch 9/10\n",
            "15000/15000 [==============================] - 2s 113us/step - loss: 0.0802 - accuracy: 0.9883 - val_loss: 0.5038 - val_accuracy: 0.8704\n",
            "Epoch 10/10\n",
            "15000/15000 [==============================] - 2s 114us/step - loss: 0.0704 - accuracy: 0.9921 - val_loss: 0.5318 - val_accuracy: 0.8687\n"
          ],
          "name": "stdout"
        }
      ]
    },
    {
      "cell_type": "code",
      "metadata": {
        "id": "EuKEdCfHfjfo",
        "colab_type": "code",
        "outputId": "6a98faa0-8049-44ff-e96f-774225d24eee",
        "colab": {
          "base_uri": "https://localhost:8080/",
          "height": 390
        }
      },
      "source": [
        "K.clear_session()\n",
        "opt = rmsprop()\n",
        "model = models.Sequential()\n",
        "model.add(layers.Dense(16, activation = 'relu', input_shape = (10000,)))\n",
        "model.add(layers.Dense(16, activation='relu', kernel_regularizer=regularizers.l2(0.001)))\n",
        "model.add(layers.Dense(1, activation='sigmoid'))\n",
        "\n",
        "model.compile(optimizer=opt,\n",
        "              loss='binary_crossentropy',\n",
        "              metrics=['accuracy'])\n",
        "\n",
        "history_dict = {}\n",
        "history = model.fit(X_train,\n",
        "                    y_train,\n",
        "                    epochs=10,\n",
        "                    batch_size=256,\n",
        "                    validation_data=(X_val, y_val))\n",
        "history_dict = history.history\n",
        "L2_hidden_df = pd.DataFrame(history_dict)"
      ],
      "execution_count": 50,
      "outputs": [
        {
          "output_type": "stream",
          "text": [
            "Train on 15000 samples, validate on 10000 samples\n",
            "Epoch 1/10\n",
            "15000/15000 [==============================] - 2s 119us/step - loss: 0.4796 - accuracy: 0.8217 - val_loss: 0.3477 - val_accuracy: 0.8803\n",
            "Epoch 2/10\n",
            "15000/15000 [==============================] - 2s 113us/step - loss: 0.2684 - accuracy: 0.9124 - val_loss: 0.2916 - val_accuracy: 0.8907\n",
            "Epoch 3/10\n",
            "15000/15000 [==============================] - 2s 114us/step - loss: 0.1977 - accuracy: 0.9364 - val_loss: 0.3008 - val_accuracy: 0.8863\n",
            "Epoch 4/10\n",
            "15000/15000 [==============================] - 2s 111us/step - loss: 0.1560 - accuracy: 0.9528 - val_loss: 0.3137 - val_accuracy: 0.8848\n",
            "Epoch 5/10\n",
            "15000/15000 [==============================] - 2s 113us/step - loss: 0.1278 - accuracy: 0.9643 - val_loss: 0.3484 - val_accuracy: 0.8788\n",
            "Epoch 6/10\n",
            "15000/15000 [==============================] - 2s 114us/step - loss: 0.1034 - accuracy: 0.9731 - val_loss: 0.3774 - val_accuracy: 0.8772\n",
            "Epoch 7/10\n",
            "15000/15000 [==============================] - 2s 114us/step - loss: 0.0860 - accuracy: 0.9802 - val_loss: 0.4135 - val_accuracy: 0.8737\n",
            "Epoch 8/10\n",
            "15000/15000 [==============================] - 2s 116us/step - loss: 0.0703 - accuracy: 0.9845 - val_loss: 0.4361 - val_accuracy: 0.8772\n",
            "Epoch 9/10\n",
            "15000/15000 [==============================] - 2s 114us/step - loss: 0.0598 - accuracy: 0.9885 - val_loss: 0.4773 - val_accuracy: 0.8724\n",
            "Epoch 10/10\n",
            "15000/15000 [==============================] - 2s 112us/step - loss: 0.0483 - accuracy: 0.9919 - val_loss: 0.5334 - val_accuracy: 0.8721\n"
          ],
          "name": "stdout"
        }
      ]
    },
    {
      "cell_type": "code",
      "metadata": {
        "id": "aRgslJ_13603",
        "colab_type": "code",
        "colab": {
          "base_uri": "https://localhost:8080/",
          "height": 390
        },
        "outputId": "6d0241d5-78f3-43b1-c390-98190e26f7cf"
      },
      "source": [
        "K.clear_session()\n",
        "opt = rmsprop()\n",
        "model = models.Sequential()\n",
        "model.add(layers.Dense(16, activation = 'relu', input_shape = (10000,)))\n",
        "model.add(layers.Dense(16, activation='relu', kernel_regularizer=regularizers.l1_l2(0.001)))\n",
        "model.add(layers.Dense(1, activation='sigmoid'))\n",
        "\n",
        "model.compile(optimizer=opt,\n",
        "              loss='binary_crossentropy',\n",
        "              metrics=['accuracy'])\n",
        "\n",
        "history_dict = {}\n",
        "history = model.fit(X_train,\n",
        "                    y_train,\n",
        "                    epochs=10,\n",
        "                    batch_size=256,\n",
        "                    validation_data=(X_val, y_val))\n",
        "history_dict = history.history\n",
        "L2_hidden_df = pd.DataFrame(history_dict)"
      ],
      "execution_count": 31,
      "outputs": [
        {
          "output_type": "stream",
          "text": [
            "Train on 15000 samples, validate on 10000 samples\n",
            "Epoch 1/10\n",
            "15000/15000 [==============================] - 4s 271us/step - loss: 0.6761 - accuracy: 0.8157 - val_loss: 0.5354 - val_accuracy: 0.8598\n",
            "Epoch 2/10\n",
            "15000/15000 [==============================] - 2s 106us/step - loss: 0.4211 - accuracy: 0.9111 - val_loss: 0.4189 - val_accuracy: 0.8920\n",
            "Epoch 3/10\n",
            "15000/15000 [==============================] - 2s 105us/step - loss: 0.3190 - accuracy: 0.9347 - val_loss: 0.3812 - val_accuracy: 0.8908\n",
            "Epoch 4/10\n",
            "15000/15000 [==============================] - 2s 105us/step - loss: 0.2578 - accuracy: 0.9480 - val_loss: 0.3711 - val_accuracy: 0.8872\n",
            "Epoch 5/10\n",
            "15000/15000 [==============================] - 2s 105us/step - loss: 0.2132 - accuracy: 0.9586 - val_loss: 0.3625 - val_accuracy: 0.8858\n",
            "Epoch 6/10\n",
            "15000/15000 [==============================] - 2s 108us/step - loss: 0.1815 - accuracy: 0.9654 - val_loss: 0.3837 - val_accuracy: 0.8792\n",
            "Epoch 7/10\n",
            "15000/15000 [==============================] - 2s 108us/step - loss: 0.1570 - accuracy: 0.9719 - val_loss: 0.3869 - val_accuracy: 0.8798\n",
            "Epoch 8/10\n",
            "15000/15000 [==============================] - 2s 106us/step - loss: 0.1377 - accuracy: 0.9771 - val_loss: 0.3923 - val_accuracy: 0.8816\n",
            "Epoch 9/10\n",
            "15000/15000 [==============================] - 2s 105us/step - loss: 0.1245 - accuracy: 0.9808 - val_loss: 0.4049 - val_accuracy: 0.8791\n",
            "Epoch 10/10\n",
            "15000/15000 [==============================] - 2s 104us/step - loss: 0.1106 - accuracy: 0.9840 - val_loss: 0.4231 - val_accuracy: 0.8764\n"
          ],
          "name": "stdout"
        }
      ]
    },
    {
      "cell_type": "markdown",
      "metadata": {
        "id": "YFBUyctwoL9t",
        "colab_type": "text"
      },
      "source": [
        "### 2) dropout layer"
      ]
    },
    {
      "cell_type": "code",
      "metadata": {
        "id": "9n3RkLeJmRPO",
        "colab_type": "code",
        "outputId": "0e695ea5-fbac-4353-bcde-29290e88b34e",
        "colab": {
          "base_uri": "https://localhost:8080/",
          "height": 390
        }
      },
      "source": [
        "K.clear_session()\n",
        "opt = rmsprop()\n",
        "model = models.Sequential()\n",
        "model.add(layers.Dense(16, activation = 'relu', input_shape = (10000,)))\n",
        "model.add(layers.Dropout(0.2))\n",
        "model.add(layers.Dense(16, activation='relu', kernel_regularizer=regularizers.l2(0.001)))\n",
        "model.add(layers.Dense(1, activation='sigmoid'))\n",
        "\n",
        "model.compile(optimizer=opt,\n",
        "              loss='binary_crossentropy',\n",
        "              metrics=['accuracy'])\n",
        "\n",
        "history_dict = {}\n",
        "history = model.fit(X_train,\n",
        "                    y_train,\n",
        "                    epochs=10,\n",
        "                    batch_size=256,\n",
        "                    validation_data=(X_val, y_val))\n",
        "history_dict = history.history\n",
        "dropout_df = pd.DataFrame(history_dict)"
      ],
      "execution_count": 51,
      "outputs": [
        {
          "output_type": "stream",
          "text": [
            "Train on 15000 samples, validate on 10000 samples\n",
            "Epoch 1/10\n",
            "15000/15000 [==============================] - 2s 122us/step - loss: 0.4933 - accuracy: 0.7990 - val_loss: 0.3573 - val_accuracy: 0.8712\n",
            "Epoch 2/10\n",
            "15000/15000 [==============================] - 2s 114us/step - loss: 0.2912 - accuracy: 0.9009 - val_loss: 0.2971 - val_accuracy: 0.8866\n",
            "Epoch 3/10\n",
            "15000/15000 [==============================] - 2s 113us/step - loss: 0.2199 - accuracy: 0.9278 - val_loss: 0.2924 - val_accuracy: 0.8902\n",
            "Epoch 4/10\n",
            "15000/15000 [==============================] - 2s 115us/step - loss: 0.1707 - accuracy: 0.9455 - val_loss: 0.3015 - val_accuracy: 0.8895\n",
            "Epoch 5/10\n",
            "15000/15000 [==============================] - 2s 117us/step - loss: 0.1361 - accuracy: 0.9587 - val_loss: 0.3377 - val_accuracy: 0.8858\n",
            "Epoch 6/10\n",
            "15000/15000 [==============================] - 2s 115us/step - loss: 0.1098 - accuracy: 0.9687 - val_loss: 0.3653 - val_accuracy: 0.8832\n",
            "Epoch 7/10\n",
            "15000/15000 [==============================] - 2s 116us/step - loss: 0.0897 - accuracy: 0.9761 - val_loss: 0.4159 - val_accuracy: 0.8773\n",
            "Epoch 8/10\n",
            "15000/15000 [==============================] - 2s 116us/step - loss: 0.0730 - accuracy: 0.9822 - val_loss: 0.4423 - val_accuracy: 0.8811\n",
            "Epoch 9/10\n",
            "15000/15000 [==============================] - 2s 112us/step - loss: 0.0590 - accuracy: 0.9878 - val_loss: 0.4849 - val_accuracy: 0.8791\n",
            "Epoch 10/10\n",
            "15000/15000 [==============================] - 2s 113us/step - loss: 0.0520 - accuracy: 0.9898 - val_loss: 0.5297 - val_accuracy: 0.8768\n"
          ],
          "name": "stdout"
        }
      ]
    },
    {
      "cell_type": "markdown",
      "metadata": {
        "id": "qYkR6OB9po1j",
        "colab_type": "text"
      },
      "source": [
        "### 3) 학습률(learning late)과 epoch 수정"
      ]
    },
    {
      "cell_type": "code",
      "metadata": {
        "id": "oJlfYtYIpcWj",
        "colab_type": "code",
        "outputId": "2b78992b-10a9-418e-8ca5-675b6ad06520",
        "colab": {
          "base_uri": "https://localhost:8080/",
          "height": 816
        }
      },
      "source": [
        "K.clear_session()\n",
        "opt = rmsprop(lr=0.0001)\n",
        "model = models.Sequential()\n",
        "model.add(layers.Dense(16, activation = 'relu', input_shape = (10000,)))\n",
        "model.add(layers.Dropout(0.2))\n",
        "model.add(layers.Dense(16, activation='relu', kernel_regularizer=regularizers.l2(0.001)))\n",
        "model.add(layers.Dense(1, activation='sigmoid'))\n",
        "\n",
        "model.compile(optimizer=opt,\n",
        "              loss='binary_crossentropy',\n",
        "              metrics=['accuracy'])\n",
        "\n",
        "history_dict = {}\n",
        "history = model.fit(X_train,\n",
        "                    y_train,\n",
        "                    epochs=22,\n",
        "                    batch_size=256,\n",
        "                    validation_data=(X_val, y_val))\n",
        "history_dict = history.history\n",
        "lr_epoch_df = pd.DataFrame(history_dict)"
      ],
      "execution_count": 59,
      "outputs": [
        {
          "output_type": "stream",
          "text": [
            "Train on 15000 samples, validate on 10000 samples\n",
            "Epoch 1/22\n",
            "15000/15000 [==============================] - 2s 124us/step - loss: 0.6962 - accuracy: 0.5597 - val_loss: 0.6763 - val_accuracy: 0.6447\n",
            "Epoch 2/22\n",
            "15000/15000 [==============================] - 2s 113us/step - loss: 0.6538 - accuracy: 0.6697 - val_loss: 0.6250 - val_accuracy: 0.7402\n",
            "Epoch 3/22\n",
            "15000/15000 [==============================] - 2s 114us/step - loss: 0.6058 - accuracy: 0.7374 - val_loss: 0.5759 - val_accuracy: 0.8134\n",
            "Epoch 4/22\n",
            "15000/15000 [==============================] - 2s 114us/step - loss: 0.5594 - accuracy: 0.7879 - val_loss: 0.5289 - val_accuracy: 0.8335\n",
            "Epoch 5/22\n",
            "15000/15000 [==============================] - 2s 114us/step - loss: 0.5152 - accuracy: 0.8211 - val_loss: 0.4869 - val_accuracy: 0.8494\n",
            "Epoch 6/22\n",
            "15000/15000 [==============================] - 2s 114us/step - loss: 0.4787 - accuracy: 0.8369 - val_loss: 0.4526 - val_accuracy: 0.8615\n",
            "Epoch 7/22\n",
            "15000/15000 [==============================] - 2s 115us/step - loss: 0.4426 - accuracy: 0.8556 - val_loss: 0.4226 - val_accuracy: 0.8681\n",
            "Epoch 8/22\n",
            "15000/15000 [==============================] - 2s 114us/step - loss: 0.4138 - accuracy: 0.8682 - val_loss: 0.3980 - val_accuracy: 0.8740\n",
            "Epoch 9/22\n",
            "15000/15000 [==============================] - 2s 114us/step - loss: 0.3908 - accuracy: 0.8706 - val_loss: 0.3784 - val_accuracy: 0.8764\n",
            "Epoch 10/22\n",
            "15000/15000 [==============================] - 2s 116us/step - loss: 0.3662 - accuracy: 0.8868 - val_loss: 0.3607 - val_accuracy: 0.8788\n",
            "Epoch 11/22\n",
            "15000/15000 [==============================] - 2s 116us/step - loss: 0.3440 - accuracy: 0.8911 - val_loss: 0.3465 - val_accuracy: 0.8798\n",
            "Epoch 12/22\n",
            "15000/15000 [==============================] - 2s 114us/step - loss: 0.3284 - accuracy: 0.8984 - val_loss: 0.3352 - val_accuracy: 0.8819\n",
            "Epoch 13/22\n",
            "15000/15000 [==============================] - 2s 115us/step - loss: 0.3101 - accuracy: 0.9019 - val_loss: 0.3239 - val_accuracy: 0.8841\n",
            "Epoch 14/22\n",
            "15000/15000 [==============================] - 2s 116us/step - loss: 0.2982 - accuracy: 0.9048 - val_loss: 0.3164 - val_accuracy: 0.8861\n",
            "Epoch 15/22\n",
            "15000/15000 [==============================] - 2s 115us/step - loss: 0.2821 - accuracy: 0.9131 - val_loss: 0.3101 - val_accuracy: 0.8873\n",
            "Epoch 16/22\n",
            "15000/15000 [==============================] - 2s 115us/step - loss: 0.2695 - accuracy: 0.9141 - val_loss: 0.3043 - val_accuracy: 0.8887\n",
            "Epoch 17/22\n",
            "15000/15000 [==============================] - 2s 116us/step - loss: 0.2593 - accuracy: 0.9197 - val_loss: 0.3000 - val_accuracy: 0.8898\n",
            "Epoch 18/22\n",
            "15000/15000 [==============================] - 2s 116us/step - loss: 0.2465 - accuracy: 0.9242 - val_loss: 0.2961 - val_accuracy: 0.8915\n",
            "Epoch 19/22\n",
            "15000/15000 [==============================] - 2s 115us/step - loss: 0.2374 - accuracy: 0.9272 - val_loss: 0.2933 - val_accuracy: 0.8920\n",
            "Epoch 20/22\n",
            "15000/15000 [==============================] - 2s 117us/step - loss: 0.2287 - accuracy: 0.9300 - val_loss: 0.2915 - val_accuracy: 0.8932\n",
            "Epoch 21/22\n",
            "15000/15000 [==============================] - 2s 120us/step - loss: 0.2164 - accuracy: 0.9359 - val_loss: 0.2898 - val_accuracy: 0.8936\n",
            "Epoch 22/22\n",
            "15000/15000 [==============================] - 2s 120us/step - loss: 0.2117 - accuracy: 0.9366 - val_loss: 0.2898 - val_accuracy: 0.8927\n"
          ],
          "name": "stdout"
        }
      ]
    },
    {
      "cell_type": "code",
      "metadata": {
        "id": "DroytB5DvFbK",
        "colab_type": "code",
        "outputId": "56a7dce5-9e18-4e23-89ba-939089748de3",
        "colab": {
          "base_uri": "https://localhost:8080/",
          "height": 406
        }
      },
      "source": [
        "accuracy = lr_epoch_df['accuracy']   \n",
        "val_accuracy = lr_epoch_df['val_accuracy']\n",
        "epochs = range(1, len(accuracy) + 1)\n",
        "plt.figure(figsize=(12,6))\n",
        "plt.subplot(1,2,1)\n",
        "plt.plot(epochs, accuracy, 'r', label='Training accuracy')\n",
        "plt.plot(epochs, val_accuracy, 'ro', label='Validation accuracy')\n",
        "plt.xlabel('Epochs')\n",
        "plt.ylabel('Accuracy')\n",
        "plt.ylim(0,1.01)\n",
        "plt.legend()\n",
        "\n",
        "plt.subplot(1,2,2)\n",
        "loss = lr_epoch_df['loss']   \n",
        "val_loss = lr_epoch_df['val_loss']\n",
        "epochs = range(1, len(loss) + 1)\n",
        "\n",
        "plt.plot(epochs, loss, 'b', label='Training loss')\n",
        "plt.plot(epochs, val_loss, 'bo', label='Validation loss')\n",
        "plt.xlabel('Epochs')\n",
        "plt.ylabel('loss')\n",
        "plt.ylim(0,1.01)\n",
        "plt.legend()\n"
      ],
      "execution_count": 60,
      "outputs": [
        {
          "output_type": "execute_result",
          "data": {
            "text/plain": [
              "<matplotlib.legend.Legend at 0x7f85a0f30748>"
            ]
          },
          "metadata": {
            "tags": []
          },
          "execution_count": 60
        },
        {
          "output_type": "display_data",
          "data": {
            "image/png": "[encoded data removed]",
            "text/plain": [
              "<Figure size 864x432 with 2 Axes>"
            ]
          },
          "metadata": {
            "tags": [],
            "needs_background": "light"
          }
        }
      ]
    },
    {
      "cell_type": "code",
      "metadata": {
        "id": "1Jaf-RnoveLA",
        "colab_type": "code",
        "outputId": "b4c6ee1f-fd61-4955-fb28-8473ff207a6a",
        "colab": {
          "base_uri": "https://localhost:8080/",
          "height": 52
        }
      },
      "source": [
        "model.evaluate(X_test, y_test)"
      ],
      "execution_count": 62,
      "outputs": [
        {
          "output_type": "stream",
          "text": [
            "25000/25000 [==============================] - 2s 63us/step\n"
          ],
          "name": "stdout"
        },
        {
          "output_type": "execute_result",
          "data": {
            "text/plain": [
              "[0.30472687000274656, 0.8860800266265869]"
            ]
          },
          "metadata": {
            "tags": []
          },
          "execution_count": 62
        }
      ]
    },
    {
      "cell_type": "code",
      "metadata": {
        "id": "yA2SQsrcv2Em",
        "colab_type": "code",
        "colab": {
          "base_uri": "https://localhost:8080/",
          "height": 301
        },
        "outputId": "9bed9d73-0389-4ade-8101-17b479537703"
      },
      "source": [
        "model.summary()"
      ],
      "execution_count": 57,
      "outputs": [
        {
          "output_type": "stream",
          "text": [
            "Model: \"sequential_1\"\n",
            "_________________________________________________________________\n",
            "Layer (type)                 Output Shape              Param #   \n",
            "=================================================================\n",
            "dense_1 (Dense)              (None, 16)                160016    \n",
            "_________________________________________________________________\n",
            "dropout_1 (Dropout)          (None, 16)                0         \n",
            "_________________________________________________________________\n",
            "dense_2 (Dense)              (None, 16)                272       \n",
            "_________________________________________________________________\n",
            "dense_3 (Dense)              (None, 1)                 17        \n",
            "=================================================================\n",
            "Total params: 160,305\n",
            "Trainable params: 160,305\n",
            "Non-trainable params: 0\n",
            "_________________________________________________________________\n"
          ],
          "name": "stdout"
        }
      ]
    },
    {
      "cell_type": "code",
      "metadata": {
        "id": "pokT3x-D5P9b",
        "colab_type": "code",
        "colab": {}
      },
      "source": [
        ""
      ],
      "execution_count": 0,
      "outputs": []
    }
  ]
}