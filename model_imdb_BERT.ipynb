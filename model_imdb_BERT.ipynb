{
  "nbformat": 4,
  "nbformat_minor": 0,
  "metadata": {
    "colab": {
      "name": "model_imdb_BERT.ipynb",
      "provenance": [],
      "authorship_tag": "ABX9TyNQk+Bl3ZHZ9KFhgOUQSvn9",
      "include_colab_link": true
    },
    "kernelspec": {
      "name": "python3",
      "display_name": "Python 3"
    },
    "accelerator": "GPU",
    "widgets": {
      "application/vnd.jupyter.widget-state+json": {
        "3d3fc4c0480346088d3fdcd56f5d1ca5": {
          "model_module": "@jupyter-widgets/controls",
          "model_name": "HBoxModel",
          "state": {
            "_view_name": "HBoxView",
            "_dom_classes": [],
            "_model_name": "HBoxModel",
            "_view_module": "@jupyter-widgets/controls",
            "_model_module_version": "1.5.0",
            "_view_count": null,
            "_view_module_version": "1.5.0",
            "box_style": "",
            "layout": "IPY_MODEL_580caa3481294d818fd5b557f2f93a01",
            "_model_module": "@jupyter-widgets/controls",
            "children": [
              "IPY_MODEL_5ed23726a0494053a64adfc96e654646",
              "IPY_MODEL_f94ba4a326af4b439e495f528a93b825"
            ]
          }
        },
        "580caa3481294d818fd5b557f2f93a01": {
          "model_module": "@jupyter-widgets/base",
          "model_name": "LayoutModel",
          "state": {
            "_view_name": "LayoutView",
            "grid_template_rows": null,
            "right": null,
            "justify_content": null,
            "_view_module": "@jupyter-widgets/base",
            "overflow": null,
            "_model_module_version": "1.2.0",
            "_view_count": null,
            "flex_flow": null,
            "width": null,
            "min_width": null,
            "border": null,
            "align_items": null,
            "bottom": null,
            "_model_module": "@jupyter-widgets/base",
            "top": null,
            "grid_column": null,
            "overflow_y": null,
            "overflow_x": null,
            "grid_auto_flow": null,
            "grid_area": null,
            "grid_template_columns": null,
            "flex": null,
            "_model_name": "LayoutModel",
            "justify_items": null,
            "grid_row": null,
            "max_height": null,
            "align_content": null,
            "visibility": null,
            "align_self": null,
            "height": null,
            "min_height": null,
            "padding": null,
            "grid_auto_rows": null,
            "grid_gap": null,
            "max_width": null,
            "order": null,
            "_view_module_version": "1.2.0",
            "grid_template_areas": null,
            "object_position": null,
            "object_fit": null,
            "grid_auto_columns": null,
            "margin": null,
            "display": null,
            "left": null
          }
        },
        "5ed23726a0494053a64adfc96e654646": {
          "model_module": "@jupyter-widgets/controls",
          "model_name": "FloatProgressModel",
          "state": {
            "_view_name": "ProgressView",
            "style": "IPY_MODEL_0d72be52e7c44ac68c012288d8d39da0",
            "_dom_classes": [],
            "description": "Downloading: 100%",
            "_model_name": "FloatProgressModel",
            "bar_style": "success",
            "max": 231508,
            "_view_module": "@jupyter-widgets/controls",
            "_model_module_version": "1.5.0",
            "value": 231508,
            "_view_count": null,
            "_view_module_version": "1.5.0",
            "orientation": "horizontal",
            "min": 0,
            "description_tooltip": null,
            "_model_module": "@jupyter-widgets/controls",
            "layout": "IPY_MODEL_13fdf1af64e44773b2ecd5f31029a7df"
          }
        },
        "f94ba4a326af4b439e495f528a93b825": {
          "model_module": "@jupyter-widgets/controls",
          "model_name": "HTMLModel",
          "state": {
            "_view_name": "HTMLView",
            "style": "IPY_MODEL_da2ebd9dd7704be0b4babd78adb357de",
            "_dom_classes": [],
            "description": "",
            "_model_name": "HTMLModel",
            "placeholder": "​",
            "_view_module": "@jupyter-widgets/controls",
            "_model_module_version": "1.5.0",
            "value": " 232k/232k [00:00&lt;00:00, 3.48MB/s]",
            "_view_count": null,
            "_view_module_version": "1.5.0",
            "description_tooltip": null,
            "_model_module": "@jupyter-widgets/controls",
            "layout": "IPY_MODEL_d5bfac94e582468bb0427a5286eddd0e"
          }
        },
        "0d72be52e7c44ac68c012288d8d39da0": {
          "model_module": "@jupyter-widgets/controls",
          "model_name": "ProgressStyleModel",
          "state": {
            "_view_name": "StyleView",
            "_model_name": "ProgressStyleModel",
            "description_width": "initial",
            "_view_module": "@jupyter-widgets/base",
            "_model_module_version": "1.5.0",
            "_view_count": null,
            "_view_module_version": "1.2.0",
            "bar_color": null,
            "_model_module": "@jupyter-widgets/controls"
          }
        },
        "13fdf1af64e44773b2ecd5f31029a7df": {
          "model_module": "@jupyter-widgets/base",
          "model_name": "LayoutModel",
          "state": {
            "_view_name": "LayoutView",
            "grid_template_rows": null,
            "right": null,
            "justify_content": null,
            "_view_module": "@jupyter-widgets/base",
            "overflow": null,
            "_model_module_version": "1.2.0",
            "_view_count": null,
            "flex_flow": null,
            "width": null,
            "min_width": null,
            "border": null,
            "align_items": null,
            "bottom": null,
            "_model_module": "@jupyter-widgets/base",
            "top": null,
            "grid_column": null,
            "overflow_y": null,
            "overflow_x": null,
            "grid_auto_flow": null,
            "grid_area": null,
            "grid_template_columns": null,
            "flex": null,
            "_model_name": "LayoutModel",
            "justify_items": null,
            "grid_row": null,
            "max_height": null,
            "align_content": null,
            "visibility": null,
            "align_self": null,
            "height": null,
            "min_height": null,
            "padding": null,
            "grid_auto_rows": null,
            "grid_gap": null,
            "max_width": null,
            "order": null,
            "_view_module_version": "1.2.0",
            "grid_template_areas": null,
            "object_position": null,
            "object_fit": null,
            "grid_auto_columns": null,
            "margin": null,
            "display": null,
            "left": null
          }
        },
        "da2ebd9dd7704be0b4babd78adb357de": {
          "model_module": "@jupyter-widgets/controls",
          "model_name": "DescriptionStyleModel",
          "state": {
            "_view_name": "StyleView",
            "_model_name": "DescriptionStyleModel",
            "description_width": "",
            "_view_module": "@jupyter-widgets/base",
            "_model_module_version": "1.5.0",
            "_view_count": null,
            "_view_module_version": "1.2.0",
            "_model_module": "@jupyter-widgets/controls"
          }
        },
        "d5bfac94e582468bb0427a5286eddd0e": {
          "model_module": "@jupyter-widgets/base",
          "model_name": "LayoutModel",
          "state": {
            "_view_name": "LayoutView",
            "grid_template_rows": null,
            "right": null,
            "justify_content": null,
            "_view_module": "@jupyter-widgets/base",
            "overflow": null,
            "_model_module_version": "1.2.0",
            "_view_count": null,
            "flex_flow": null,
            "width": null,
            "min_width": null,
            "border": null,
            "align_items": null,
            "bottom": null,
            "_model_module": "@jupyter-widgets/base",
            "top": null,
            "grid_column": null,
            "overflow_y": null,
            "overflow_x": null,
            "grid_auto_flow": null,
            "grid_area": null,
            "grid_template_columns": null,
            "flex": null,
            "_model_name": "LayoutModel",
            "justify_items": null,
            "grid_row": null,
            "max_height": null,
            "align_content": null,
            "visibility": null,
            "align_self": null,
            "height": null,
            "min_height": null,
            "padding": null,
            "grid_auto_rows": null,
            "grid_gap": null,
            "max_width": null,
            "order": null,
            "_view_module_version": "1.2.0",
            "grid_template_areas": null,
            "object_position": null,
            "object_fit": null,
            "grid_auto_columns": null,
            "margin": null,
            "display": null,
            "left": null
          }
        },
        "cb866714305c4c3b875e9d694850ffca": {
          "model_module": "@jupyter-widgets/controls",
          "model_name": "HBoxModel",
          "state": {
            "_view_name": "HBoxView",
            "_dom_classes": [],
            "_model_name": "HBoxModel",
            "_view_module": "@jupyter-widgets/controls",
            "_model_module_version": "1.5.0",
            "_view_count": null,
            "_view_module_version": "1.5.0",
            "box_style": "",
            "layout": "IPY_MODEL_90617810708b413b927243adc19a25c2",
            "_model_module": "@jupyter-widgets/controls",
            "children": [
              "IPY_MODEL_0e290290890844d5a12632a4d9790dbe",
              "IPY_MODEL_5630a84dc1404cd48b1aee53e2ad4e32"
            ]
          }
        },
        "90617810708b413b927243adc19a25c2": {
          "model_module": "@jupyter-widgets/base",
          "model_name": "LayoutModel",
          "state": {
            "_view_name": "LayoutView",
            "grid_template_rows": null,
            "right": null,
            "justify_content": null,
            "_view_module": "@jupyter-widgets/base",
            "overflow": null,
            "_model_module_version": "1.2.0",
            "_view_count": null,
            "flex_flow": null,
            "width": null,
            "min_width": null,
            "border": null,
            "align_items": null,
            "bottom": null,
            "_model_module": "@jupyter-widgets/base",
            "top": null,
            "grid_column": null,
            "overflow_y": null,
            "overflow_x": null,
            "grid_auto_flow": null,
            "grid_area": null,
            "grid_template_columns": null,
            "flex": null,
            "_model_name": "LayoutModel",
            "justify_items": null,
            "grid_row": null,
            "max_height": null,
            "align_content": null,
            "visibility": null,
            "align_self": null,
            "height": null,
            "min_height": null,
            "padding": null,
            "grid_auto_rows": null,
            "grid_gap": null,
            "max_width": null,
            "order": null,
            "_view_module_version": "1.2.0",
            "grid_template_areas": null,
            "object_position": null,
            "object_fit": null,
            "grid_auto_columns": null,
            "margin": null,
            "display": null,
            "left": null
          }
        },
        "0e290290890844d5a12632a4d9790dbe": {
          "model_module": "@jupyter-widgets/controls",
          "model_name": "FloatProgressModel",
          "state": {
            "_view_name": "ProgressView",
            "style": "IPY_MODEL_956cfc39fff740828e1a84dfff64a40b",
            "_dom_classes": [],
            "description": "Downloading: 100%",
            "_model_name": "FloatProgressModel",
            "bar_style": "success",
            "max": 433,
            "_view_module": "@jupyter-widgets/controls",
            "_model_module_version": "1.5.0",
            "value": 433,
            "_view_count": null,
            "_view_module_version": "1.5.0",
            "orientation": "horizontal",
            "min": 0,
            "description_tooltip": null,
            "_model_module": "@jupyter-widgets/controls",
            "layout": "IPY_MODEL_b5f3ccb2e35a462fbfe17e1560c08d38"
          }
        },
        "5630a84dc1404cd48b1aee53e2ad4e32": {
          "model_module": "@jupyter-widgets/controls",
          "model_name": "HTMLModel",
          "state": {
            "_view_name": "HTMLView",
            "style": "IPY_MODEL_4e9d50dea5564a948e8d086b7dc798b7",
            "_dom_classes": [],
            "description": "",
            "_model_name": "HTMLModel",
            "placeholder": "​",
            "_view_module": "@jupyter-widgets/controls",
            "_model_module_version": "1.5.0",
            "value": " 433/433 [00:05&lt;00:00, 74.0B/s]",
            "_view_count": null,
            "_view_module_version": "1.5.0",
            "description_tooltip": null,
            "_model_module": "@jupyter-widgets/controls",
            "layout": "IPY_MODEL_cfd7040829f04efdbe1f3f86e55e40d9"
          }
        },
        "956cfc39fff740828e1a84dfff64a40b": {
          "model_module": "@jupyter-widgets/controls",
          "model_name": "ProgressStyleModel",
          "state": {
            "_view_name": "StyleView",
            "_model_name": "ProgressStyleModel",
            "description_width": "initial",
            "_view_module": "@jupyter-widgets/base",
            "_model_module_version": "1.5.0",
            "_view_count": null,
            "_view_module_version": "1.2.0",
            "bar_color": null,
            "_model_module": "@jupyter-widgets/controls"
          }
        },
        "b5f3ccb2e35a462fbfe17e1560c08d38": {
          "model_module": "@jupyter-widgets/base",
          "model_name": "LayoutModel",
          "state": {
            "_view_name": "LayoutView",
            "grid_template_rows": null,
            "right": null,
            "justify_content": null,
            "_view_module": "@jupyter-widgets/base",
            "overflow": null,
            "_model_module_version": "1.2.0",
            "_view_count": null,
            "flex_flow": null,
            "width": null,
            "min_width": null,
            "border": null,
            "align_items": null,
            "bottom": null,
            "_model_module": "@jupyter-widgets/base",
            "top": null,
            "grid_column": null,
            "overflow_y": null,
            "overflow_x": null,
            "grid_auto_flow": null,
            "grid_area": null,
            "grid_template_columns": null,
            "flex": null,
            "_model_name": "LayoutModel",
            "justify_items": null,
            "grid_row": null,
            "max_height": null,
            "align_content": null,
            "visibility": null,
            "align_self": null,
            "height": null,
            "min_height": null,
            "padding": null,
            "grid_auto_rows": null,
            "grid_gap": null,
            "max_width": null,
            "order": null,
            "_view_module_version": "1.2.0",
            "grid_template_areas": null,
            "object_position": null,
            "object_fit": null,
            "grid_auto_columns": null,
            "margin": null,
            "display": null,
            "left": null
          }
        },
        "4e9d50dea5564a948e8d086b7dc798b7": {
          "model_module": "@jupyter-widgets/controls",
          "model_name": "DescriptionStyleModel",
          "state": {
            "_view_name": "StyleView",
            "_model_name": "DescriptionStyleModel",
            "description_width": "",
            "_view_module": "@jupyter-widgets/base",
            "_model_module_version": "1.5.0",
            "_view_count": null,
            "_view_module_version": "1.2.0",
            "_model_module": "@jupyter-widgets/controls"
          }
        },
        "cfd7040829f04efdbe1f3f86e55e40d9": {
          "model_module": "@jupyter-widgets/base",
          "model_name": "LayoutModel",
          "state": {
            "_view_name": "LayoutView",
            "grid_template_rows": null,
            "right": null,
            "justify_content": null,
            "_view_module": "@jupyter-widgets/base",
            "overflow": null,
            "_model_module_version": "1.2.0",
            "_view_count": null,
            "flex_flow": null,
            "width": null,
            "min_width": null,
            "border": null,
            "align_items": null,
            "bottom": null,
            "_model_module": "@jupyter-widgets/base",
            "top": null,
            "grid_column": null,
            "overflow_y": null,
            "overflow_x": null,
            "grid_auto_flow": null,
            "grid_area": null,
            "grid_template_columns": null,
            "flex": null,
            "_model_name": "LayoutModel",
            "justify_items": null,
            "grid_row": null,
            "max_height": null,
            "align_content": null,
            "visibility": null,
            "align_self": null,
            "height": null,
            "min_height": null,
            "padding": null,
            "grid_auto_rows": null,
            "grid_gap": null,
            "max_width": null,
            "order": null,
            "_view_module_version": "1.2.0",
            "grid_template_areas": null,
            "object_position": null,
            "object_fit": null,
            "grid_auto_columns": null,
            "margin": null,
            "display": null,
            "left": null
          }
        },
        "492917d3125d4b2983b68c1b5c1bf904": {
          "model_module": "@jupyter-widgets/controls",
          "model_name": "HBoxModel",
          "state": {
            "_view_name": "HBoxView",
            "_dom_classes": [],
            "_model_name": "HBoxModel",
            "_view_module": "@jupyter-widgets/controls",
            "_model_module_version": "1.5.0",
            "_view_count": null,
            "_view_module_version": "1.5.0",
            "box_style": "",
            "layout": "IPY_MODEL_1146515c07584189a267d53e350c28d4",
            "_model_module": "@jupyter-widgets/controls",
            "children": [
              "IPY_MODEL_dae2a6b6d3ce4ce3bec194dfbeabd1b3",
              "IPY_MODEL_7c7629a6a1194048ba29858718a26ab1"
            ]
          }
        },
        "1146515c07584189a267d53e350c28d4": {
          "model_module": "@jupyter-widgets/base",
          "model_name": "LayoutModel",
          "state": {
            "_view_name": "LayoutView",
            "grid_template_rows": null,
            "right": null,
            "justify_content": null,
            "_view_module": "@jupyter-widgets/base",
            "overflow": null,
            "_model_module_version": "1.2.0",
            "_view_count": null,
            "flex_flow": null,
            "width": null,
            "min_width": null,
            "border": null,
            "align_items": null,
            "bottom": null,
            "_model_module": "@jupyter-widgets/base",
            "top": null,
            "grid_column": null,
            "overflow_y": null,
            "overflow_x": null,
            "grid_auto_flow": null,
            "grid_area": null,
            "grid_template_columns": null,
            "flex": null,
            "_model_name": "LayoutModel",
            "justify_items": null,
            "grid_row": null,
            "max_height": null,
            "align_content": null,
            "visibility": null,
            "align_self": null,
            "height": null,
            "min_height": null,
            "padding": null,
            "grid_auto_rows": null,
            "grid_gap": null,
            "max_width": null,
            "order": null,
            "_view_module_version": "1.2.0",
            "grid_template_areas": null,
            "object_position": null,
            "object_fit": null,
            "grid_auto_columns": null,
            "margin": null,
            "display": null,
            "left": null
          }
        },
        "dae2a6b6d3ce4ce3bec194dfbeabd1b3": {
          "model_module": "@jupyter-widgets/controls",
          "model_name": "FloatProgressModel",
          "state": {
            "_view_name": "ProgressView",
            "style": "IPY_MODEL_e3edd07ead2e465b86e39a5713f0b734",
            "_dom_classes": [],
            "description": "Downloading: 100%",
            "_model_name": "FloatProgressModel",
            "bar_style": "success",
            "max": 440473133,
            "_view_module": "@jupyter-widgets/controls",
            "_model_module_version": "1.5.0",
            "value": 440473133,
            "_view_count": null,
            "_view_module_version": "1.5.0",
            "orientation": "horizontal",
            "min": 0,
            "description_tooltip": null,
            "_model_module": "@jupyter-widgets/controls",
            "layout": "IPY_MODEL_eecbf6cdd6684c2c8a678823c28630bc"
          }
        },
        "7c7629a6a1194048ba29858718a26ab1": {
          "model_module": "@jupyter-widgets/controls",
          "model_name": "HTMLModel",
          "state": {
            "_view_name": "HTMLView",
            "style": "IPY_MODEL_ab53098d1ef24ab8bda8f19428eceecd",
            "_dom_classes": [],
            "description": "",
            "_model_name": "HTMLModel",
            "placeholder": "​",
            "_view_module": "@jupyter-widgets/controls",
            "_model_module_version": "1.5.0",
            "value": " 440M/440M [00:05&lt;00:00, 77.5MB/s]",
            "_view_count": null,
            "_view_module_version": "1.5.0",
            "description_tooltip": null,
            "_model_module": "@jupyter-widgets/controls",
            "layout": "IPY_MODEL_76f4d5c9505c48538c7294e36c4005ac"
          }
        },
        "e3edd07ead2e465b86e39a5713f0b734": {
          "model_module": "@jupyter-widgets/controls",
          "model_name": "ProgressStyleModel",
          "state": {
            "_view_name": "StyleView",
            "_model_name": "ProgressStyleModel",
            "description_width": "initial",
            "_view_module": "@jupyter-widgets/base",
            "_model_module_version": "1.5.0",
            "_view_count": null,
            "_view_module_version": "1.2.0",
            "bar_color": null,
            "_model_module": "@jupyter-widgets/controls"
          }
        },
        "eecbf6cdd6684c2c8a678823c28630bc": {
          "model_module": "@jupyter-widgets/base",
          "model_name": "LayoutModel",
          "state": {
            "_view_name": "LayoutView",
            "grid_template_rows": null,
            "right": null,
            "justify_content": null,
            "_view_module": "@jupyter-widgets/base",
            "overflow": null,
            "_model_module_version": "1.2.0",
            "_view_count": null,
            "flex_flow": null,
            "width": null,
            "min_width": null,
            "border": null,
            "align_items": null,
            "bottom": null,
            "_model_module": "@jupyter-widgets/base",
            "top": null,
            "grid_column": null,
            "overflow_y": null,
            "overflow_x": null,
            "grid_auto_flow": null,
            "grid_area": null,
            "grid_template_columns": null,
            "flex": null,
            "_model_name": "LayoutModel",
            "justify_items": null,
            "grid_row": null,
            "max_height": null,
            "align_content": null,
            "visibility": null,
            "align_self": null,
            "height": null,
            "min_height": null,
            "padding": null,
            "grid_auto_rows": null,
            "grid_gap": null,
            "max_width": null,
            "order": null,
            "_view_module_version": "1.2.0",
            "grid_template_areas": null,
            "object_position": null,
            "object_fit": null,
            "grid_auto_columns": null,
            "margin": null,
            "display": null,
            "left": null
          }
        },
        "ab53098d1ef24ab8bda8f19428eceecd": {
          "model_module": "@jupyter-widgets/controls",
          "model_name": "DescriptionStyleModel",
          "state": {
            "_view_name": "StyleView",
            "_model_name": "DescriptionStyleModel",
            "description_width": "",
            "_view_module": "@jupyter-widgets/base",
            "_model_module_version": "1.5.0",
            "_view_count": null,
            "_view_module_version": "1.2.0",
            "_model_module": "@jupyter-widgets/controls"
          }
        },
        "76f4d5c9505c48538c7294e36c4005ac": {
          "model_module": "@jupyter-widgets/base",
          "model_name": "LayoutModel",
          "state": {
            "_view_name": "LayoutView",
            "grid_template_rows": null,
            "right": null,
            "justify_content": null,
            "_view_module": "@jupyter-widgets/base",
            "overflow": null,
            "_model_module_version": "1.2.0",
            "_view_count": null,
            "flex_flow": null,
            "width": null,
            "min_width": null,
            "border": null,
            "align_items": null,
            "bottom": null,
            "_model_module": "@jupyter-widgets/base",
            "top": null,
            "grid_column": null,
            "overflow_y": null,
            "overflow_x": null,
            "grid_auto_flow": null,
            "grid_area": null,
            "grid_template_columns": null,
            "flex": null,
            "_model_name": "LayoutModel",
            "justify_items": null,
            "grid_row": null,
            "max_height": null,
            "align_content": null,
            "visibility": null,
            "align_self": null,
            "height": null,
            "min_height": null,
            "padding": null,
            "grid_auto_rows": null,
            "grid_gap": null,
            "max_width": null,
            "order": null,
            "_view_module_version": "1.2.0",
            "grid_template_areas": null,
            "object_position": null,
            "object_fit": null,
            "grid_auto_columns": null,
            "margin": null,
            "display": null,
            "left": null
          }
        }
      }
    }
  },
  "cells": [
    {
      "cell_type": "markdown",
      "metadata": {
        "id": "view-in-github",
        "colab_type": "text"
      },
      "source": [
        "<a href=\"https://colab.research.google.com/github/ark1st/2020_AI/blob/master/model_imdb_BERT.ipynb\" target=\"_parent\"><img src=\"https://colab.research.google.com/assets/colab-badge.svg\" alt=\"Open In Colab\"/></a>"
      ]
    },
    {
      "cell_type": "code",
      "metadata": {
        "colab": {
          "base_uri": "https://localhost:8080/"
        },
        "id": "fFb2EM06lGXH",
        "outputId": "6b8ee3e7-c4a7-4a34-b50a-3678cbaf9c11"
      },
      "source": [
        "!pip install transformers"
      ],
      "execution_count": 1,
      "outputs": [
        {
          "output_type": "stream",
          "text": [
            "Collecting transformers\n",
            "\u001b[?25l  Downloading https://files.pythonhosted.org/packages/50/0c/7d5950fcd80b029be0a8891727ba21e0cd27692c407c51261c3c921f6da3/transformers-4.1.1-py3-none-any.whl (1.5MB)\n",
            "\u001b[K     |████████████████████████████████| 1.5MB 15.1MB/s \n",
            "\u001b[?25hCollecting sacremoses\n",
            "\u001b[?25l  Downloading https://files.pythonhosted.org/packages/7d/34/09d19aff26edcc8eb2a01bed8e98f13a1537005d31e95233fd48216eed10/sacremoses-0.0.43.tar.gz (883kB)\n",
            "\u001b[K     |████████████████████████████████| 890kB 56.6MB/s \n",
            "\u001b[?25hRequirement already satisfied: requests in /usr/local/lib/python3.6/dist-packages (from transformers) (2.23.0)\n",
            "Requirement already satisfied: regex!=2019.12.17 in /usr/local/lib/python3.6/dist-packages (from transformers) (2019.12.20)\n",
            "Requirement already satisfied: tqdm>=4.27 in /usr/local/lib/python3.6/dist-packages (from transformers) (4.41.1)\n",
            "Requirement already satisfied: filelock in /usr/local/lib/python3.6/dist-packages (from transformers) (3.0.12)\n",
            "Requirement already satisfied: packaging in /usr/local/lib/python3.6/dist-packages (from transformers) (20.8)\n",
            "Collecting tokenizers==0.9.4\n",
            "\u001b[?25l  Downloading https://files.pythonhosted.org/packages/0f/1c/e789a8b12e28be5bc1ce2156cf87cb522b379be9cadc7ad8091a4cc107c4/tokenizers-0.9.4-cp36-cp36m-manylinux2010_x86_64.whl (2.9MB)\n",
            "\u001b[K     |████████████████████████████████| 2.9MB 54.6MB/s \n",
            "\u001b[?25hRequirement already satisfied: numpy in /usr/local/lib/python3.6/dist-packages (from transformers) (1.19.4)\n",
            "Requirement already satisfied: dataclasses; python_version < \"3.7\" in /usr/local/lib/python3.6/dist-packages (from transformers) (0.8)\n",
            "Requirement already satisfied: six in /usr/local/lib/python3.6/dist-packages (from sacremoses->transformers) (1.15.0)\n",
            "Requirement already satisfied: click in /usr/local/lib/python3.6/dist-packages (from sacremoses->transformers) (7.1.2)\n",
            "Requirement already satisfied: joblib in /usr/local/lib/python3.6/dist-packages (from sacremoses->transformers) (1.0.0)\n",
            "Requirement already satisfied: urllib3!=1.25.0,!=1.25.1,<1.26,>=1.21.1 in /usr/local/lib/python3.6/dist-packages (from requests->transformers) (1.24.3)\n",
            "Requirement already satisfied: certifi>=2017.4.17 in /usr/local/lib/python3.6/dist-packages (from requests->transformers) (2020.12.5)\n",
            "Requirement already satisfied: idna<3,>=2.5 in /usr/local/lib/python3.6/dist-packages (from requests->transformers) (2.10)\n",
            "Requirement already satisfied: chardet<4,>=3.0.2 in /usr/local/lib/python3.6/dist-packages (from requests->transformers) (3.0.4)\n",
            "Requirement already satisfied: pyparsing>=2.0.2 in /usr/local/lib/python3.6/dist-packages (from packaging->transformers) (2.4.7)\n",
            "Building wheels for collected packages: sacremoses\n",
            "  Building wheel for sacremoses (setup.py) ... \u001b[?25l\u001b[?25hdone\n",
            "  Created wheel for sacremoses: filename=sacremoses-0.0.43-cp36-none-any.whl size=893261 sha256=e206b3291688f9e13a91a8daa7136c0f7233e0b2408d9966812bb0a075e580f4\n",
            "  Stored in directory: /root/.cache/pip/wheels/29/3c/fd/7ce5c3f0666dab31a50123635e6fb5e19ceb42ce38d4e58f45\n",
            "Successfully built sacremoses\n",
            "Installing collected packages: sacremoses, tokenizers, transformers\n",
            "Successfully installed sacremoses-0.0.43 tokenizers-0.9.4 transformers-4.1.1\n"
          ],
          "name": "stdout"
        }
      ]
    },
    {
      "cell_type": "code",
      "metadata": {
        "id": "ea54C2mvno_7"
      },
      "source": [
        "import re\r\n",
        "import sys\r\n",
        "import random\r\n",
        "\r\n",
        "import torch\r\n",
        "import torch.nn as nn\r\n",
        "import torch.nn.functional as F\r\n",
        "\r\n",
        "from torchtext import data\r\n",
        "from torchtext import datasets\r\n",
        "\r\n",
        "from transformers import BertTokenizer, BertModel"
      ],
      "execution_count": 2,
      "outputs": []
    },
    {
      "cell_type": "code",
      "metadata": {
        "colab": {
          "base_uri": "https://localhost:8080/",
          "height": 84,
          "referenced_widgets": [
            "3d3fc4c0480346088d3fdcd56f5d1ca5",
            "580caa3481294d818fd5b557f2f93a01",
            "5ed23726a0494053a64adfc96e654646",
            "f94ba4a326af4b439e495f528a93b825",
            "0d72be52e7c44ac68c012288d8d39da0",
            "13fdf1af64e44773b2ecd5f31029a7df",
            "da2ebd9dd7704be0b4babd78adb357de",
            "d5bfac94e582468bb0427a5286eddd0e"
          ]
        },
        "id": "4MJPq4fGlXkK",
        "outputId": "4c4bf41e-850e-4266-812e-24c32ff02017"
      },
      "source": [
        "tokenizer = BertTokenizer.from_pretrained('bert-base-uncased')\r\n",
        "\r\n",
        "print(len(tokenizer.vocab))"
      ],
      "execution_count": 4,
      "outputs": [
        {
          "output_type": "display_data",
          "data": {
            "application/vnd.jupyter.widget-view+json": {
              "model_id": "3d3fc4c0480346088d3fdcd56f5d1ca5",
              "version_minor": 0,
              "version_major": 2
            },
            "text/plain": [
              "HBox(children=(FloatProgress(value=0.0, description='Downloading', max=231508.0, style=ProgressStyle(descripti…"
            ]
          },
          "metadata": {
            "tags": []
          }
        },
        {
          "output_type": "stream",
          "text": [
            "\n",
            "30522\n"
          ],
          "name": "stdout"
        }
      ]
    },
    {
      "cell_type": "code",
      "metadata": {
        "colab": {
          "base_uri": "https://localhost:8080/"
        },
        "id": "1XbUQSuRloXq",
        "outputId": "57bc23e4-df47-4c5d-98e7-2c7a24fa181a"
      },
      "source": [
        "max_input_length = tokenizer.max_model_input_sizes['bert-base-uncased']\r\n",
        "print(max_input_length)"
      ],
      "execution_count": 5,
      "outputs": [
        {
          "output_type": "stream",
          "text": [
            "512\n"
          ],
          "name": "stdout"
        }
      ]
    },
    {
      "cell_type": "code",
      "metadata": {
        "id": "3LptLBELmBiE"
      },
      "source": [
        "def new_tokenizer(sentence):\r\n",
        "  tokens = tokenizer.tokenize(sentence)\r\n",
        "  tokens = tokens[:max_input_length - 2]\r\n",
        "  return tokens"
      ],
      "execution_count": 6,
      "outputs": []
    },
    {
      "cell_type": "code",
      "metadata": {
        "id": "TI3qf0mTmtJy"
      },
      "source": [
        "def PreProcessingText(input_sentence):\r\n",
        "    input_sentence = input_sentence.lower() # 소문자화\r\n",
        "    input_sentence = re.sub('<[^>]*>', repl= ' ', string = input_sentence) # \"<br />\" 처리\r\n",
        "    input_sentence = re.sub('[!\"$%&\\()*+,-./:;<=>?@[\\\\]^_`{|}~]', repl= ' ', string = input_sentence) # 특수문자 처리 (\"'\" 제외)\r\n",
        "    input_sentence = re.sub('\\s+', repl= ' ', string = input_sentence) # 연속된 띄어쓰기 처리\r\n",
        "    if input_sentence:\r\n",
        "        return input_sentence\r\n",
        "\r\n",
        "def PreProc(list_sentence):\r\n",
        "    return [tokenizer.convert_tokens_to_ids(PreProcessingText(x)) for x in list_sentence]"
      ],
      "execution_count": 7,
      "outputs": []
    },
    {
      "cell_type": "code",
      "metadata": {
        "id": "GlWZxIQJni7S"
      },
      "source": [
        "TEXT = data.Field(batch_first = True,\r\n",
        "                  use_vocab = False,\r\n",
        "                  tokenize = new_tokenizer,\r\n",
        "                  preprocessing = PreProc,\r\n",
        "                  init_token = tokenizer.cls_token_id,\r\n",
        "                  eos_token = tokenizer.sep_token_id,\r\n",
        "                  pad_token = tokenizer.pad_token_id,\r\n",
        "                  unk_token = tokenizer.unk_token_id)\r\n",
        "\r\n",
        "LABEL = data.LabelField(dtype = torch.float)"
      ],
      "execution_count": 8,
      "outputs": []
    },
    {
      "cell_type": "code",
      "metadata": {
        "id": "OqQQbqfRnujZ"
      },
      "source": [
        "train_data, test_data = datasets.IMDB.splits(TEXT, LABEL)"
      ],
      "execution_count": 10,
      "outputs": []
    },
    {
      "cell_type": "code",
      "metadata": {
        "id": "QTSu4GRFn5hq"
      },
      "source": [
        "LABEL.build_vocab(train_data)"
      ],
      "execution_count": 11,
      "outputs": []
    },
    {
      "cell_type": "code",
      "metadata": {
        "id": "3NInaRoDn6Yi"
      },
      "source": [
        "train_data, valid_data = train_data.split(random_state = random.seed(0), split_ratio=0.8)"
      ],
      "execution_count": 12,
      "outputs": []
    },
    {
      "cell_type": "code",
      "metadata": {
        "colab": {
          "base_uri": "https://localhost:8080/"
        },
        "id": "CY-6MJVcn8jK",
        "outputId": "74559e23-3a90-47bb-ccab-12b952b5f8b8"
      },
      "source": [
        "# Data Length\r\n",
        "print(f'Train Data Length : {len(train_data.examples)}')\r\n",
        "print(f'Test Data Length : {len(test_data.examples)}')"
      ],
      "execution_count": 13,
      "outputs": [
        {
          "output_type": "stream",
          "text": [
            "Train Data Length : 20000\n",
            "Test Data Length : 25000\n"
          ],
          "name": "stdout"
        }
      ]
    },
    {
      "cell_type": "code",
      "metadata": {
        "colab": {
          "base_uri": "https://localhost:8080/"
        },
        "id": "r9NAucD2z82o",
        "outputId": "7ecfb1de-77b1-402b-ad4d-ff0b587b86a8"
      },
      "source": [
        "\r\n",
        "# Data Fields\r\n",
        "train_data.fields"
      ],
      "execution_count": 14,
      "outputs": [
        {
          "output_type": "execute_result",
          "data": {
            "text/plain": [
              "{'label': <torchtext.data.field.LabelField at 0x7f6b036bd6a0>,\n",
              " 'text': <torchtext.data.field.Field at 0x7f6b036bd9b0>}"
            ]
          },
          "metadata": {
            "tags": []
          },
          "execution_count": 14
        }
      ]
    },
    {
      "cell_type": "code",
      "metadata": {
        "colab": {
          "base_uri": "https://localhost:8080/"
        },
        "id": "R4vveyVwz95O",
        "outputId": "91d86620-57bf-4930-8269-6002d306a652"
      },
      "source": [
        "\r\n",
        "# Data Sample\r\n",
        "print('---- Data Sample ----')\r\n",
        "print('Input : ')\r\n",
        "print(tokenizer.convert_ids_to_tokens(vars(train_data.examples[2])['text']))"
      ],
      "execution_count": 15,
      "outputs": [
        {
          "output_type": "stream",
          "text": [
            "---- Data Sample ----\n",
            "Input : \n",
            "['i', 'guess', 'there', 'are', 'some', 'out', 'there', 'that', 'remember', 'nicole', 'egg', '##ert', 'from', 'her', 'little', 'girl', 'days', 'on', 'such', 'tv', 'shows', 'as', 't', '[UNK]', 'j', '[UNK]', 'hooker', '[UNK]', 'charles', 'in', 'charge', '[UNK]', 'and', 'who', \"'\", 's', 'the', 'boss', '[UNK]', 'you', 'per', '##vert', '##s', '[UNK]', 'you', '[UNK]', 'maybe', 'you', 'remember', 'her', 'from', 'bay', '##watch', 'when', 'she', 'grew', 'up', 'and', 'got', 'breast', 'implant', '##s', '[UNK]', 'no', 'matter', '[UNK]', 'you', 'will', 'certainly', 'forget', 'her', 'in', 'this', 'supposed', 'comedy', 'about', 'man', '[UNK]', 'eating', 'aliens', '[UNK]', '[UNK]', 'br', '[UNK]', '[UNK]', '[UNK]', 'br', '[UNK]', '[UNK]', 'there', 'are', 'so', 'many', 'things', 'that', 'do', 'not', 'make', 'sense', 'and', 'are', 'never', 'explained', '[UNK]', 'how', 'did', 'she', 'recognize', 'the', 'alien', '[UNK]', 'why', 'was', 'the', 'alien', 'hot', 'for', 'pa', '##pr', '##ika', 'and', 'cinnamon', '[UNK]', 'why', 'didn', \"'\", 't', 'the', 'alien', 'eat', 'her', '[UNK]', 'you', 'get', 'the', 'picture', '[UNK]', '[UNK]', 'br', '[UNK]', '[UNK]', '[UNK]', 'br', '[UNK]', '[UNK]', 'before', 'the', 'alien', 'eats', 'her', 'boyfriend', 'and', 'assumes', 'his', 'identity', '[UNK]', 'you', 'get', 'to', 'see', 'her', 'in', 'the', 'body', 'of', 'alex', 'men', '##eses', '[UNK]', 'this', 'mexican', '[UNK]', 'uk', '##rani', '##an', 'beauty', 'is', 'the', 'only', 'reason', 'to', 'watch', 'this', 'trash', '[UNK]', 'stay', 'for', 'the', 'shower', 'scene', 'and', 'the', 'boyfriend', '[UNK]', 'and', 'go', 'on', 'about', 'your', 'business', '[UNK]']\n"
          ],
          "name": "stdout"
        }
      ]
    },
    {
      "cell_type": "code",
      "metadata": {
        "colab": {
          "base_uri": "https://localhost:8080/"
        },
        "id": "DW95Lwnnz_en",
        "outputId": "c2141a38-c69e-4d9a-9899-b5dee0c108b7"
      },
      "source": [
        "# Label Info\r\n",
        "print(f'Label Size : {len(LABEL.vocab)}')\r\n",
        "\r\n",
        "print('Lable Examples : ')\r\n",
        "for idx, (k, v) in enumerate(LABEL.vocab.stoi.items()):\r\n",
        "    print('\\t', k, v)"
      ],
      "execution_count": 16,
      "outputs": [
        {
          "output_type": "stream",
          "text": [
            "Label Size : 2\n",
            "Lable Examples : \n",
            "\t neg 0\n",
            "\t pos 1\n"
          ],
          "name": "stdout"
        }
      ]
    },
    {
      "cell_type": "code",
      "metadata": {
        "id": "qig4US5o0CN4"
      },
      "source": [
        "model_config = {}"
      ],
      "execution_count": 17,
      "outputs": []
    },
    {
      "cell_type": "code",
      "metadata": {
        "id": "FTRALW_z0Dfu"
      },
      "source": [
        "model_config['batch_size'] = 8\r\n",
        "\r\n",
        "device = torch.device('cuda' if torch.cuda.is_available() else 'cpu')\r\n",
        "\r\n",
        "train_iterator, valid_iterator, test_iterator = data.BucketIterator.splits(\r\n",
        "    (train_data, valid_data, test_data), \r\n",
        "    batch_size=model_config['batch_size'],\r\n",
        "    device=device)"
      ],
      "execution_count": 18,
      "outputs": []
    },
    {
      "cell_type": "code",
      "metadata": {
        "colab": {
          "base_uri": "https://localhost:8080/"
        },
        "id": "WYNpLhCP0Eg-",
        "outputId": "7b5e6917-2b56-4875-d481-4c9ae24fd7bb"
      },
      "source": [
        "# Check batch data\r\n",
        "sample_for_check = next(iter(train_iterator))\r\n",
        "print(sample_for_check)\r\n",
        "print(sample_for_check.text)\r\n",
        "print(sample_for_check.label)"
      ],
      "execution_count": 19,
      "outputs": [
        {
          "output_type": "stream",
          "text": [
            "\n",
            "[torchtext.data.batch.Batch of size 8]\n",
            "\t[.text]:[torch.cuda.LongTensor of size 8x512 (GPU 0)]\n",
            "\t[.label]:[torch.cuda.FloatTensor of size 8 (GPU 0)]\n",
            "tensor([[  101,  2023, 11322,  ...,     0,     0,     0],\n",
            "        [  101,  2023,  2001,  ...,  2256,  9479,   102],\n",
            "        [  101, 16637,   100,  ...,     0,     0,     0],\n",
            "        ...,\n",
            "        [  101, 17453, 18856,  ...,     0,     0,     0],\n",
            "        [  101,  6373,  3632,  ...,     0,     0,     0],\n",
            "        [  101,  2023,  3185,  ...,     0,     0,     0]], device='cuda:0')\n",
            "tensor([1., 1., 1., 0., 0., 0., 0., 1.], device='cuda:0')\n"
          ],
          "name": "stdout"
        }
      ]
    },
    {
      "cell_type": "code",
      "metadata": {
        "colab": {
          "base_uri": "https://localhost:8080/",
          "height": 116,
          "referenced_widgets": [
            "cb866714305c4c3b875e9d694850ffca",
            "90617810708b413b927243adc19a25c2",
            "0e290290890844d5a12632a4d9790dbe",
            "5630a84dc1404cd48b1aee53e2ad4e32",
            "956cfc39fff740828e1a84dfff64a40b",
            "b5f3ccb2e35a462fbfe17e1560c08d38",
            "4e9d50dea5564a948e8d086b7dc798b7",
            "cfd7040829f04efdbe1f3f86e55e40d9",
            "492917d3125d4b2983b68c1b5c1bf904",
            "1146515c07584189a267d53e350c28d4",
            "dae2a6b6d3ce4ce3bec194dfbeabd1b3",
            "7c7629a6a1194048ba29858718a26ab1",
            "e3edd07ead2e465b86e39a5713f0b734",
            "eecbf6cdd6684c2c8a678823c28630bc",
            "ab53098d1ef24ab8bda8f19428eceecd",
            "76f4d5c9505c48538c7294e36c4005ac"
          ]
        },
        "id": "1HEv4kLC0Gi-",
        "outputId": "3cb67697-15cf-4a84-e62e-bb330228c141"
      },
      "source": [
        "bert = BertModel.from_pretrained('bert-base-uncased')"
      ],
      "execution_count": 20,
      "outputs": [
        {
          "output_type": "display_data",
          "data": {
            "application/vnd.jupyter.widget-view+json": {
              "model_id": "cb866714305c4c3b875e9d694850ffca",
              "version_minor": 0,
              "version_major": 2
            },
            "text/plain": [
              "HBox(children=(FloatProgress(value=0.0, description='Downloading', max=433.0, style=ProgressStyle(description_…"
            ]
          },
          "metadata": {
            "tags": []
          }
        },
        {
          "output_type": "stream",
          "text": [
            "\n"
          ],
          "name": "stdout"
        },
        {
          "output_type": "display_data",
          "data": {
            "application/vnd.jupyter.widget-view+json": {
              "model_id": "492917d3125d4b2983b68c1b5c1bf904",
              "version_minor": 0,
              "version_major": 2
            },
            "text/plain": [
              "HBox(children=(FloatProgress(value=0.0, description='Downloading', max=440473133.0, style=ProgressStyle(descri…"
            ]
          },
          "metadata": {
            "tags": []
          }
        },
        {
          "output_type": "stream",
          "text": [
            "\n"
          ],
          "name": "stdout"
        }
      ]
    },
    {
      "cell_type": "code",
      "metadata": {
        "id": "jEupk1eU0ID-"
      },
      "source": [
        "model_config['emb_dim'] = bert.config.to_dict()['hidden_size']"
      ],
      "execution_count": 21,
      "outputs": []
    },
    {
      "cell_type": "code",
      "metadata": {
        "colab": {
          "base_uri": "https://localhost:8080/"
        },
        "id": "ieNpmUVk0Lyu",
        "outputId": "f648e866-e11e-4810-d145-d816ed0a9cde"
      },
      "source": [
        "print(model_config['emb_dim'])"
      ],
      "execution_count": 22,
      "outputs": [
        {
          "output_type": "stream",
          "text": [
            "768\n"
          ],
          "name": "stdout"
        }
      ]
    },
    {
      "cell_type": "code",
      "metadata": {
        "id": "Gp_-ibXY0NRu"
      },
      "source": [
        "class SentenceClassification(nn.Module):\r\n",
        "    def __init__(self, **model_config):\r\n",
        "        super(SentenceClassification, self).__init__()\r\n",
        "        self.bert = bert\r\n",
        "        self.fc = nn.Linear(model_config['emb_dim'],\r\n",
        "                            model_config['output_dim'])\r\n",
        "        \r\n",
        "    def forward(self, x):\r\n",
        "        pooled_cls_output = self.bert(x)[1]\r\n",
        "        return self.fc(pooled_cls_output)"
      ],
      "execution_count": 23,
      "outputs": []
    },
    {
      "cell_type": "code",
      "metadata": {
        "id": "Xt-umCD20OxO"
      },
      "source": [
        "def train(model, iterator, optimizer, loss_fn, idx_epoch, **model_params):\r\n",
        "    \r\n",
        "    epoch_loss = 0\r\n",
        "    epoch_acc = 0\r\n",
        "    \r\n",
        "    model.train() \r\n",
        "    batch_size = model_params['batch_size']\r\n",
        "\r\n",
        "    for idx, batch in enumerate(iterator):\r\n",
        "        \r\n",
        "        # Initializing\r\n",
        "        optimizer.zero_grad()\r\n",
        "        \r\n",
        "        # Forward \r\n",
        "        predictions = model(batch.text).squeeze()\r\n",
        "        loss = loss_fn(predictions, batch.label)\r\n",
        "\r\n",
        "        acc = binary_accuracy(predictions, batch.label)\r\n",
        "        \r\n",
        "        sys.stdout.write(\r\n",
        "                    \"\\r\" + f\"[Train] Epoch : {idx_epoch:^3}\"\\\r\n",
        "                    f\"[{(idx + 1) * batch_size} / {len(iterator) * batch_size} ({100. * (idx + 1) / len(iterator) :.4}%)]\"\\\r\n",
        "                    f\"  Loss: {loss.item():.4}\"\\\r\n",
        "                    f\"  Acc : {acc.item():.4}\"\\\r\n",
        "                    )\r\n",
        "\r\n",
        "        # Backward \r\n",
        "        loss.backward()\r\n",
        "        optimizer.step()\r\n",
        "        \r\n",
        "        # Update Epoch Performance\r\n",
        "        epoch_loss += loss.item()\r\n",
        "        epoch_acc += acc.item()\r\n",
        "        \r\n",
        "    return epoch_loss/len(iterator) , epoch_acc/len(iterator)"
      ],
      "execution_count": 24,
      "outputs": []
    },
    {
      "cell_type": "code",
      "metadata": {
        "id": "onpZGn5R0TOW"
      },
      "source": [
        "def evaluate(model, iterator, loss_fn, idx_epoch, **model_params):\r\n",
        "    \r\n",
        "    epoch_loss = 0\r\n",
        "    epoch_acc = 0\r\n",
        "    \r\n",
        "    batch_size = model_params['batch_size']\r\n",
        "    \r\n",
        "    # evaluation mode\r\n",
        "    model.eval()\r\n",
        "    with torch.no_grad():\r\n",
        "        for idx, batch in enumerate(iterator):\r\n",
        "            predictions = model(batch.text).squeeze()\r\n",
        "            loss = loss_fn(predictions, batch.label)\r\n",
        "            acc = binary_accuracy(predictions, batch.label)\r\n",
        "\r\n",
        "            epoch_loss += loss.item()\r\n",
        "            epoch_acc += acc.item()\r\n",
        "\r\n",
        "            sys.stdout.write(\r\n",
        "                    \"\\r\" + f\"[Eval] Epoch : {idx_epoch:^3}\"\\\r\n",
        "                    f\"[{(idx + 1) * batch_size} / {len(iterator) * batch_size} ({100. * (idx + 1) / len(iterator) :.4}%)]\"\\\r\n",
        "                    f\"  Loss: {loss.item():.4}\"\\\r\n",
        "                    f\"  Acc : {acc.item():.4}\"\\\r\n",
        "                    )\r\n",
        "        \r\n",
        "    return epoch_loss / len(iterator), epoch_acc / len(iterator)"
      ],
      "execution_count": 31,
      "outputs": []
    },
    {
      "cell_type": "code",
      "metadata": {
        "id": "Tp0Pj-Ml0UfW"
      },
      "source": [
        "model_config.update(dict(output_dim = 1))"
      ],
      "execution_count": 26,
      "outputs": []
    },
    {
      "cell_type": "code",
      "metadata": {
        "id": "Ai59KaZu0Vm-"
      },
      "source": [
        "\r\n",
        "def binary_accuracy(preds, y):\r\n",
        "    # rounded_preds = torch.argmax(preds, axis=1) \r\n",
        "    rounded_preds = torch.round(torch.sigmoid(preds))\r\n",
        "    correct = (rounded_preds == y).float()\r\n",
        "    acc = correct.sum()/len(correct)\r\n",
        "    return acc\r\n",
        "\r\n",
        "\r\n",
        "model = SentenceClassification(**model_config)\r\n",
        "optimizer = torch.optim.Adam(model.parameters(), lr=3e-5)\r\n",
        "loss_fn = nn.BCEWithLogitsLoss().to(device)\r\n",
        "model = model.to(device)"
      ],
      "execution_count": 27,
      "outputs": []
    },
    {
      "cell_type": "code",
      "metadata": {
        "colab": {
          "base_uri": "https://localhost:8080/"
        },
        "id": "GYC9RczJ0Wbu",
        "outputId": "47316a86-9d3c-4778-d915-42d821ec3050"
      },
      "source": [
        "def count_parameters(model):\r\n",
        "    return sum(p.numel() for p in model.parameters() if p.requires_grad)\r\n",
        "\r\n",
        "count_parameters(model)"
      ],
      "execution_count": 28,
      "outputs": [
        {
          "output_type": "execute_result",
          "data": {
            "text/plain": [
              "109483009"
            ]
          },
          "metadata": {
            "tags": []
          },
          "execution_count": 28
        }
      ]
    },
    {
      "cell_type": "code",
      "metadata": {
        "colab": {
          "base_uri": "https://localhost:8080/"
        },
        "id": "2lmAqRRY0X8_",
        "outputId": "87b0446b-3921-4fa3-a3d2-6af742627969"
      },
      "source": [
        "\r\n",
        "N_EPOCH = 4\r\n",
        "\r\n",
        "best_valid_loss = float('inf')\r\n",
        "model_name = \"BERT\"\r\n",
        "\r\n",
        "print('---------------------------------')\r\n",
        "print(f'Model name : {model_name}')\r\n",
        "print('---------------------------------')\r\n",
        "\r\n",
        "for epoch in range(N_EPOCH):\r\n",
        "    train_loss, train_acc = train(model, train_iterator, optimizer, loss_fn, epoch, **model_config)\r\n",
        "    print('')\r\n",
        "    print(f'\\t Epoch : {epoch} | Train Loss : {train_loss:.4} | Train Acc : {train_acc:.4}')\r\n",
        "    valid_loss, valid_acc = evaluate(model, valid_iterator, loss_fn, epoch, **model_config)\r\n",
        "    print('')\r\n",
        "    print(f'\\t Epoch : {epoch} | Valid Loss : {valid_loss:.4} | Valid Acc : {valid_acc:.4}')\r\n",
        "    # print('')\r\n",
        "    if valid_loss < best_valid_loss:\r\n",
        "        best_valid_loss = valid_loss\r\n",
        "        torch.save(model.state_dict(), f'./{model_name}.pt')\r\n",
        "        print(f'\\t Model is saved at {epoch}-epoch')"
      ],
      "execution_count": 29,
      "outputs": [
        {
          "output_type": "stream",
          "text": [
            "---------------------------------\n",
            "Model name : BERT\n",
            "---------------------------------\n",
            "[Train] Epoch :  0 [20000 / 20000 (100.0%)]  Loss: 0.2735  Acc : 0.875\n",
            "\t Epoch : 0 | Train Loss : 0.2972 | Train Acc : 0.8676\n",
            "[Eval] Epoch :  0 [5000 / 5000 (100.0%)]  Loss: 0.2733  Acc : 0.75\n",
            "\t Epoch : 0 | Valid Loss : 0.2129 | Valid Acc : 0.9176\n",
            "\t Model is saved at 0-epoch\n",
            "[Train] Epoch :  1 [20000 / 20000 (100.0%)]  Loss: 0.03412  Acc : 1.0\n",
            "\t Epoch : 1 | Train Loss : 0.1522 | Train Acc : 0.9457\n",
            "[Eval] Epoch :  1 [5000 / 5000 (100.0%)]  Loss: 0.1317  Acc : 1.0\n",
            "\t Epoch : 1 | Valid Loss : 0.2117 | Valid Acc : 0.9144\n",
            "\t Model is saved at 1-epoch\n",
            "[Train] Epoch :  2 [20000 / 20000 (100.0%)]  Loss: 0.007284  Acc : 1.0\n",
            "\t Epoch : 2 | Train Loss : 0.0923 | Train Acc : 0.9696\n",
            "[Eval] Epoch :  2 [5000 / 5000 (100.0%)]  Loss: 0.1794  Acc : 0.875\n",
            "\t Epoch : 2 | Valid Loss : 0.2333 | Valid Acc : 0.9214\n",
            "[Train] Epoch :  3 [20000 / 20000 (100.0%)]  Loss: 0.01106  Acc : 1.0\n",
            "\t Epoch : 3 | Train Loss : 0.05436 | Train Acc : 0.9819\n",
            "[Eval] Epoch :  3 [5000 / 5000 (100.0%)]  Loss: 0.367  Acc : 0.75\n",
            "\t Epoch : 3 | Valid Loss : 0.2699 | Valid Acc : 0.9192\n"
          ],
          "name": "stdout"
        }
      ]
    },
    {
      "cell_type": "code",
      "metadata": {
        "id": "oLqoi-OZ0aaW",
        "colab": {
          "base_uri": "https://localhost:8080/"
        },
        "outputId": "ab342a6f-69d7-417d-a750-0a6c7f79a1ac"
      },
      "source": [
        "# Test set\r\n",
        "# model.load_state_dict(torch.load(f'./{model_name}.pt'))\r\n",
        "epoch = 0\r\n",
        "test_loss, test_acc = evaluate(model, test_iterator, loss_fn, epoch, **model_config)\r\n",
        "print('')\r\n",
        "print(f'Test Loss : {test_loss:.4} | Test Acc : {test_acc:.4}')"
      ],
      "execution_count": 30,
      "outputs": [
        {
          "output_type": "stream",
          "text": [
            "[Eval] Epoch :  0 [25000 / 25000 (100.0%)]  Loss: 0.00348  Acc : 1.0\n",
            "Test Loss : 0.2656 | Test Acc : 0.9204\n"
          ],
          "name": "stdout"
        }
      ]
    },
    {
      "cell_type": "code",
      "metadata": {
        "id": "WkOSJIvS0deu"
      },
      "source": [
        ""
      ],
      "execution_count": 30,
      "outputs": []
    },
    {
      "cell_type": "code",
      "metadata": {
        "id": "4YVUth-jhR66"
      },
      "source": [
        ""
      ],
      "execution_count": null,
      "outputs": []
    }
  ]
}